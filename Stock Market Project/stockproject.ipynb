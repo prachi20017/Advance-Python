{
 "cells": [
  {
   "cell_type": "markdown",
   "metadata": {},
   "source": [
    "## Stock Market API Project\n"
   ]
  },
  {
   "cell_type": "markdown",
   "metadata": {},
   "source": [
    "## Install required packages\n"
   ]
  },
  {
   "cell_type": "code",
   "execution_count": 2,
   "metadata": {},
   "outputs": [
    {
     "name": "stdout",
     "output_type": "stream",
     "text": [
      "Requirement already satisfied: python-dotenv in c:\\users\\prach\\downloads\\advance python\\repository\\venv\\lib\\site-packages (1.0.1)\n",
      "Requirement already satisfied: requests in c:\\users\\prach\\downloads\\advance python\\repository\\venv\\lib\\site-packages (2.32.3)\n",
      "Requirement already satisfied: charset-normalizer<4,>=2 in c:\\users\\prach\\downloads\\advance python\\repository\\venv\\lib\\site-packages (from requests) (3.4.1)\n",
      "Requirement already satisfied: idna<4,>=2.5 in c:\\users\\prach\\downloads\\advance python\\repository\\venv\\lib\\site-packages (from requests) (3.10)\n",
      "Requirement already satisfied: urllib3<3,>=1.21.1 in c:\\users\\prach\\downloads\\advance python\\repository\\venv\\lib\\site-packages (from requests) (2.3.0)\n",
      "Requirement already satisfied: certifi>=2017.4.17 in c:\\users\\prach\\downloads\\advance python\\repository\\venv\\lib\\site-packages (from requests) (2025.1.31)\n",
      "Note: you may need to restart the kernel to use updated packages.\n"
     ]
    },
    {
     "name": "stderr",
     "output_type": "stream",
     "text": [
      "\n",
      "[notice] A new release of pip is available: 25.0 -> 25.0.1\n",
      "[notice] To update, run: python.exe -m pip install --upgrade pip\n"
     ]
    }
   ],
   "source": [
    "%pip install python-dotenv requests\n"
   ]
  },
  {
   "cell_type": "markdown",
   "metadata": {},
   "source": [
    "#### Loading API Key from .env file\n"
   ]
  },
  {
   "cell_type": "code",
   "execution_count": 3,
   "metadata": {},
   "outputs": [
    {
     "data": {
      "text/plain": [
       "True"
      ]
     },
     "execution_count": 3,
     "metadata": {},
     "output_type": "execute_result"
    }
   ],
   "source": [
    "from dotenv import load_dotenv\n",
    "load_dotenv()"
   ]
  },
  {
   "cell_type": "code",
   "execution_count": 4,
   "metadata": {},
   "outputs": [],
   "source": [
    "import os\n",
    "api_key = os.getenv(\"API_KEY\")"
   ]
  },
  {
   "cell_type": "markdown",
   "metadata": {},
   "source": [
    "#### Symbol Search functionality\n"
   ]
  },
  {
   "cell_type": "code",
   "execution_count": 6,
   "metadata": {},
   "outputs": [
    {
     "data": {
      "text/plain": [
       "{'bestMatches': [{'1. symbol': 'SBIN.BSE',\n",
       "   '2. name': 'State Bank of India',\n",
       "   '3. type': 'Equity',\n",
       "   '4. region': 'India/Bombay',\n",
       "   '5. marketOpen': '09:15',\n",
       "   '6. marketClose': '15:30',\n",
       "   '7. timezone': 'UTC+5.5',\n",
       "   '8. currency': 'INR',\n",
       "   '9. matchScore': '1.0000'},\n",
       "  {'1. symbol': 'SBKFF',\n",
       "   '2. name': 'State Bank of India',\n",
       "   '3. type': 'Equity',\n",
       "   '4. region': 'United States',\n",
       "   '5. marketOpen': '09:30',\n",
       "   '6. marketClose': '16:00',\n",
       "   '7. timezone': 'UTC-04',\n",
       "   '8. currency': 'USD',\n",
       "   '9. matchScore': '1.0000'},\n",
       "  {'1. symbol': 'SID.FRK',\n",
       "   '2. name': 'State Bank of India',\n",
       "   '3. type': 'Equity',\n",
       "   '4. region': 'Frankfurt',\n",
       "   '5. marketOpen': '08:00',\n",
       "   '6. marketClose': '20:00',\n",
       "   '7. timezone': 'UTC+02',\n",
       "   '8. currency': 'EUR',\n",
       "   '9. matchScore': '1.0000'},\n",
       "  {'1. symbol': 'SBID.LON',\n",
       "   '2. name': 'State Bank of India GDR',\n",
       "   '3. type': 'Equity',\n",
       "   '4. region': 'United Kingdom',\n",
       "   '5. marketOpen': '08:00',\n",
       "   '6. marketClose': '16:30',\n",
       "   '7. timezone': 'UTC+01',\n",
       "   '8. currency': 'USD',\n",
       "   '9. matchScore': '0.9048'}]}"
      ]
     },
     "execution_count": 6,
     "metadata": {},
     "output_type": "execute_result"
    }
   ],
   "source": [
    "import requests\n",
    "\n",
    "url = \"https://alpha-vantage.p.rapidapi.com/query\"\n",
    "\n",
    "querystring = {\"datatype\":\"json\",\"keywords\":\"State Bank of India\" ,\"function\":\"SYMBOL_SEARCH\"}\n",
    "\n",
    "headers = {\n",
    "\t\"x-rapidapi-key\": api_key,\n",
    "\t\"x-rapidapi-host\": \"alpha-vantage.p.rapidapi.com\"\n",
    "}\n",
    "\n",
    "response = requests.get(url, headers=headers, params=querystring)\n",
    "\n",
    "data = response.json()\n",
    "\n",
    "data"
   ]
  },
  {
   "cell_type": "code",
   "execution_count": 7,
   "metadata": {},
   "outputs": [
    {
     "data": {
      "text/plain": [
       "dict"
      ]
     },
     "execution_count": 7,
     "metadata": {},
     "output_type": "execute_result"
    }
   ],
   "source": [
    "type(data)"
   ]
  },
  {
   "cell_type": "code",
   "execution_count": 8,
   "metadata": {},
   "outputs": [
    {
     "data": {
      "text/plain": [
       "[{'1. symbol': 'SBIN.BSE',\n",
       "  '2. name': 'State Bank of India',\n",
       "  '3. type': 'Equity',\n",
       "  '4. region': 'India/Bombay',\n",
       "  '5. marketOpen': '09:15',\n",
       "  '6. marketClose': '15:30',\n",
       "  '7. timezone': 'UTC+5.5',\n",
       "  '8. currency': 'INR',\n",
       "  '9. matchScore': '1.0000'},\n",
       " {'1. symbol': 'SBKFF',\n",
       "  '2. name': 'State Bank of India',\n",
       "  '3. type': 'Equity',\n",
       "  '4. region': 'United States',\n",
       "  '5. marketOpen': '09:30',\n",
       "  '6. marketClose': '16:00',\n",
       "  '7. timezone': 'UTC-04',\n",
       "  '8. currency': 'USD',\n",
       "  '9. matchScore': '1.0000'},\n",
       " {'1. symbol': 'SID.FRK',\n",
       "  '2. name': 'State Bank of India',\n",
       "  '3. type': 'Equity',\n",
       "  '4. region': 'Frankfurt',\n",
       "  '5. marketOpen': '08:00',\n",
       "  '6. marketClose': '20:00',\n",
       "  '7. timezone': 'UTC+02',\n",
       "  '8. currency': 'EUR',\n",
       "  '9. matchScore': '1.0000'},\n",
       " {'1. symbol': 'SBID.LON',\n",
       "  '2. name': 'State Bank of India GDR',\n",
       "  '3. type': 'Equity',\n",
       "  '4. region': 'United Kingdom',\n",
       "  '5. marketOpen': '08:00',\n",
       "  '6. marketClose': '16:30',\n",
       "  '7. timezone': 'UTC+01',\n",
       "  '8. currency': 'USD',\n",
       "  '9. matchScore': '0.9048'}]"
      ]
     },
     "execution_count": 8,
     "metadata": {},
     "output_type": "execute_result"
    }
   ],
   "source": [
    "symbols = data[\"bestMatches\"]\n",
    "symbols"
   ]
  },
  {
   "cell_type": "code",
   "execution_count": 9,
   "metadata": {},
   "outputs": [],
   "source": [
    "symbol_new = {}\n",
    "for i in symbols:\n",
    "    s = i[\"1. symbol\"]\n",
    "    symbol_new[s] = [i[\"2. name\"], i[\"4. region\"], i[\"8. currency\"]]"
   ]
  },
  {
   "cell_type": "code",
   "execution_count": 10,
   "metadata": {},
   "outputs": [
    {
     "data": {
      "text/plain": [
       "{'SBIN.BSE': ['State Bank of India', 'India/Bombay', 'INR'],\n",
       " 'SBKFF': ['State Bank of India', 'United States', 'USD'],\n",
       " 'SID.FRK': ['State Bank of India', 'Frankfurt', 'EUR'],\n",
       " 'SBID.LON': ['State Bank of India GDR', 'United Kingdom', 'USD']}"
      ]
     },
     "execution_count": 10,
     "metadata": {},
     "output_type": "execute_result"
    }
   ],
   "source": [
    "symbol_new"
   ]
  },
  {
   "cell_type": "markdown",
   "metadata": {},
   "source": [
    "### From above symbols i want to get details for \"SBIN.BSE\"\n"
   ]
  },
  {
   "cell_type": "code",
   "execution_count": 11,
   "metadata": {},
   "outputs": [
    {
     "data": {
      "text/plain": [
       "{'Meta Data': {'1. Information': 'Daily Prices (open, high, low, close) and Volumes',\n",
       "  '2. Symbol': 'SBIN.BSE',\n",
       "  '3. Last Refreshed': '2025-03-12',\n",
       "  '4. Output Size': 'Compact',\n",
       "  '5. Time Zone': 'US/Eastern'},\n",
       " 'Time Series (Daily)': {'2025-03-12': {'1. open': '729.9500',\n",
       "   '2. high': '736.5000',\n",
       "   '3. low': '719.2000',\n",
       "   '4. close': '722.9000',\n",
       "   '5. volume': '198814'},\n",
       "  '2025-03-11': {'1. open': '724.9000',\n",
       "   '2. high': '733.9000',\n",
       "   '3. low': '722.5000',\n",
       "   '4. close': '729.9500',\n",
       "   '5. volume': '285624'},\n",
       "  '2025-03-10': {'1. open': '732.9500',\n",
       "   '2. high': '738.4500',\n",
       "   '3. low': '727.0500',\n",
       "   '4. close': '728.3500',\n",
       "   '5. volume': '339175'},\n",
       "  '2025-03-07': {'1. open': '732.9500',\n",
       "   '2. high': '734.9000',\n",
       "   '3. low': '727.9500',\n",
       "   '4. close': '732.7500',\n",
       "   '5. volume': '288192'},\n",
       "  '2025-03-06': {'1. open': '737.9500',\n",
       "   '2. high': '737.9500',\n",
       "   '3. low': '727.1000',\n",
       "   '4. close': '731.9500',\n",
       "   '5. volume': '321519'},\n",
       "  '2025-03-05': {'1. open': '718.8500',\n",
       "   '2. high': '731.0000',\n",
       "   '3. low': '717.8000',\n",
       "   '4. close': '730.2500',\n",
       "   '5. volume': '628448'},\n",
       "  '2025-03-04': {'1. open': '693.4000',\n",
       "   '2. high': '718.1500',\n",
       "   '3. low': '692.1500',\n",
       "   '4. close': '716.1500',\n",
       "   '5. volume': '587355'},\n",
       "  '2025-03-03': {'1. open': '692.2500',\n",
       "   '2. high': '696.8500',\n",
       "   '3. low': '679.6500',\n",
       "   '4. close': '695.1500',\n",
       "   '5. volume': '398676'},\n",
       "  '2025-02-28': {'1. open': '701.8000',\n",
       "   '2. high': '701.8000',\n",
       "   '3. low': '682.8500',\n",
       "   '4. close': '688.2500',\n",
       "   '5. volume': '953162'},\n",
       "  '2025-02-27': {'1. open': '716.9000',\n",
       "   '2. high': '716.9000',\n",
       "   '3. low': '701.0000',\n",
       "   '4. close': '703.9500',\n",
       "   '5. volume': '624622'},\n",
       "  '2025-02-25': {'1. open': '719.0000',\n",
       "   '2. high': '719.0000',\n",
       "   '3. low': '709.9500',\n",
       "   '4. close': '711.0000',\n",
       "   '5. volume': '875612'},\n",
       "  '2025-02-24': {'1. open': '712.6500',\n",
       "   '2. high': '719.8000',\n",
       "   '3. low': '710.9000',\n",
       "   '4. close': '716.4000',\n",
       "   '5. volume': '525944'},\n",
       "  '2025-02-21': {'1. open': '729.2000',\n",
       "   '2. high': '732.0000',\n",
       "   '3. low': '720.0000',\n",
       "   '4. close': '721.5500',\n",
       "   '5. volume': '460425'},\n",
       "  '2025-02-20': {'1. open': '727.8000',\n",
       "   '2. high': '731.8000',\n",
       "   '3. low': '723.0500',\n",
       "   '4. close': '729.6500',\n",
       "   '5. volume': '279931'},\n",
       "  '2025-02-19': {'1. open': '722.8000',\n",
       "   '2. high': '734.7500',\n",
       "   '3. low': '722.1000',\n",
       "   '4. close': '726.8000',\n",
       "   '5. volume': '174597'},\n",
       "  '2025-02-18': {'1. open': '727.9500',\n",
       "   '2. high': '727.9500',\n",
       "   '3. low': '717.4500',\n",
       "   '4. close': '725.7500',\n",
       "   '5. volume': '396321'},\n",
       "  '2025-02-17': {'1. open': '721.8500',\n",
       "   '2. high': '728.9500',\n",
       "   '3. low': '711.4000',\n",
       "   '4. close': '728.0500',\n",
       "   '5. volume': '751026'},\n",
       "  '2025-02-14': {'1. open': '729.4500',\n",
       "   '2. high': '732.7000',\n",
       "   '3. low': '716.1500',\n",
       "   '4. close': '722.0000',\n",
       "   '5. volume': '895669'},\n",
       "  '2025-02-13': {'1. open': '735.0000',\n",
       "   '2. high': '737.3000',\n",
       "   '3. low': '726.0500',\n",
       "   '4. close': '727.3000',\n",
       "   '5. volume': '605466'},\n",
       "  '2025-02-12': {'1. open': '732.9500',\n",
       "   '2. high': '738.3000',\n",
       "   '3. low': '717.2500',\n",
       "   '4. close': '733.2500',\n",
       "   '5. volume': '550605'},\n",
       "  '2025-02-11': {'1. open': '738.1500',\n",
       "   '2. high': '740.0000',\n",
       "   '3. low': '726.9000',\n",
       "   '4. close': '731.0000',\n",
       "   '5. volume': '826170'},\n",
       "  '2025-02-10': {'1. open': '740.5500',\n",
       "   '2. high': '744.0500',\n",
       "   '3. low': '733.6000',\n",
       "   '4. close': '736.8500',\n",
       "   '5. volume': '788061'},\n",
       "  '2025-02-07': {'1. open': '761.8000',\n",
       "   '2. high': '761.8000',\n",
       "   '3. low': '732.0500',\n",
       "   '4. close': '737.0500',\n",
       "   '5. volume': '1805880'},\n",
       "  '2025-02-06': {'1. open': '769.6500',\n",
       "   '2. high': '770.9500',\n",
       "   '3. low': '750.0000',\n",
       "   '4. close': '752.3500',\n",
       "   '5. volume': '1384322'},\n",
       "  '2025-02-05': {'1. open': '780.8000',\n",
       "   '2. high': '781.6000',\n",
       "   '3. low': '764.6500',\n",
       "   '4. close': '766.1000',\n",
       "   '5. volume': '654303'},\n",
       "  '2025-02-04': {'1. open': '766.3000',\n",
       "   '2. high': '780.8500',\n",
       "   '3. low': '766.0000',\n",
       "   '4. close': '779.2000',\n",
       "   '5. volume': '749753'},\n",
       "  '2025-02-03': {'1. open': '763.6500',\n",
       "   '2. high': '763.6500',\n",
       "   '3. low': '753.4500',\n",
       "   '4. close': '761.0000',\n",
       "   '5. volume': '427934'},\n",
       "  '2025-01-31': {'1. open': '765.0000',\n",
       "   '2. high': '777.7500',\n",
       "   '3. low': '759.3500',\n",
       "   '4. close': '773.1000',\n",
       "   '5. volume': '241965'},\n",
       "  '2025-01-30': {'1. open': '759.4000',\n",
       "   '2. high': '764.8500',\n",
       "   '3. low': '754.7000',\n",
       "   '4. close': '762.2000',\n",
       "   '5. volume': '618809'},\n",
       "  '2025-01-29': {'1. open': '752.5000',\n",
       "   '2. high': '760.2500',\n",
       "   '3. low': '749.8000',\n",
       "   '4. close': '758.7000',\n",
       "   '5. volume': '379821'},\n",
       "  '2025-01-28': {'1. open': '756.2000',\n",
       "   '2. high': '759.6000',\n",
       "   '3. low': '745.6500',\n",
       "   '4. close': '751.6500',\n",
       "   '5. volume': '794022'},\n",
       "  '2025-01-27': {'1. open': '740.0000',\n",
       "   '2. high': '755.3000',\n",
       "   '3. low': '736.0000',\n",
       "   '4. close': '749.2000',\n",
       "   '5. volume': '775011'},\n",
       "  '2025-01-24': {'1. open': '747.2000',\n",
       "   '2. high': '753.7500',\n",
       "   '3. low': '738.8500',\n",
       "   '4. close': '744.3500',\n",
       "   '5. volume': '458033'},\n",
       "  '2025-01-23': {'1. open': '751.9500',\n",
       "   '2. high': '755.8000',\n",
       "   '3. low': '743.3000',\n",
       "   '4. close': '745.9500',\n",
       "   '5. volume': '235130'},\n",
       "  '2025-01-22': {'1. open': '762.8500',\n",
       "   '2. high': '762.8500',\n",
       "   '3. low': '738.3000',\n",
       "   '4. close': '753.2500',\n",
       "   '5. volume': '237866'},\n",
       "  '2025-01-21': {'1. open': '784.9500',\n",
       "   '2. high': '785.3000',\n",
       "   '3. low': '756.2500',\n",
       "   '4. close': '759.0000',\n",
       "   '5. volume': '953600'},\n",
       "  '2025-01-20': {'1. open': '765.0500',\n",
       "   '2. high': '784.9500',\n",
       "   '3. low': '765.0500',\n",
       "   '4. close': '779.0500',\n",
       "   '5. volume': '559123'},\n",
       "  '2025-01-17': {'1. open': '766.9000',\n",
       "   '2. high': '767.8500',\n",
       "   '3. low': '759.4500',\n",
       "   '4. close': '764.1000',\n",
       "   '5. volume': '497950'},\n",
       "  '2025-01-16': {'1. open': '761.6500',\n",
       "   '2. high': '776.5500',\n",
       "   '3. low': '760.0500',\n",
       "   '4. close': '766.4000',\n",
       "   '5. volume': '511761'},\n",
       "  '2025-01-15': {'1. open': '753.7000',\n",
       "   '2. high': '758.8500',\n",
       "   '3. low': '750.3500',\n",
       "   '4. close': '754.0000',\n",
       "   '5. volume': '171791'},\n",
       "  '2025-01-14': {'1. open': '730.6000',\n",
       "   '2. high': '756.9000',\n",
       "   '3. low': '730.6000',\n",
       "   '4. close': '748.1000',\n",
       "   '5. volume': '687121'},\n",
       "  '2025-01-13': {'1. open': '742.9500',\n",
       "   '2. high': '743.8500',\n",
       "   '3. low': '722.5000',\n",
       "   '4. close': '729.6000',\n",
       "   '5. volume': '300275'},\n",
       "  '2025-01-10': {'1. open': '760.3500',\n",
       "   '2. high': '760.8000',\n",
       "   '3. low': '742.0000',\n",
       "   '4. close': '743.1500',\n",
       "   '5. volume': '454472'},\n",
       "  '2025-01-09': {'1. open': '771.9500',\n",
       "   '2. high': '771.9500',\n",
       "   '3. low': '726.9000',\n",
       "   '4. close': '760.3500',\n",
       "   '5. volume': '803943'},\n",
       "  '2025-01-08': {'1. open': '781.0000',\n",
       "   '2. high': '782.5000',\n",
       "   '3. low': '760.1000',\n",
       "   '4. close': '771.2000',\n",
       "   '5. volume': '1224097'},\n",
       "  '2025-01-07': {'1. open': '778.0500',\n",
       "   '2. high': '783.7500',\n",
       "   '3. low': '775.1000',\n",
       "   '4. close': '779.0000',\n",
       "   '5. volume': '563547'},\n",
       "  '2025-01-06': {'1. open': '798.0000',\n",
       "   '2. high': '798.0000',\n",
       "   '3. low': '773.3000',\n",
       "   '4. close': '776.7500',\n",
       "   '5. volume': '624836'},\n",
       "  '2025-01-03': {'1. open': '801.9000',\n",
       "   '2. high': '809.7000',\n",
       "   '3. low': '792.2500',\n",
       "   '4. close': '793.5000',\n",
       "   '5. volume': '387698'},\n",
       "  '2025-01-02': {'1. open': '795.0000',\n",
       "   '2. high': '802.4000',\n",
       "   '3. low': '786.3000',\n",
       "   '4. close': '801.0500',\n",
       "   '5. volume': '711599'},\n",
       "  '2025-01-01': {'1. open': '796.8500',\n",
       "   '2. high': '798.5000',\n",
       "   '3. low': '789.6000',\n",
       "   '4. close': '793.3500',\n",
       "   '5. volume': '356031'},\n",
       "  '2024-12-31': {'1. open': '788.7500',\n",
       "   '2. high': '798.9500',\n",
       "   '3. low': '787.0000',\n",
       "   '4. close': '795.0500',\n",
       "   '5. volume': '283620'},\n",
       "  '2024-12-30': {'1. open': '802.7000',\n",
       "   '2. high': '808.0000',\n",
       "   '3. low': '785.2000',\n",
       "   '4. close': '788.3000',\n",
       "   '5. volume': '686161'},\n",
       "  '2024-12-27': {'1. open': '817.2500',\n",
       "   '2. high': '818.7500',\n",
       "   '3. low': '797.2500',\n",
       "   '4. close': '799.5500',\n",
       "   '5. volume': '1061163'},\n",
       "  '2024-12-26': {'1. open': '813.0000',\n",
       "   '2. high': '822.9500',\n",
       "   '3. low': '808.0000',\n",
       "   '4. close': '811.6500',\n",
       "   '5. volume': '194920'},\n",
       "  '2024-12-24': {'1. open': '825.0000',\n",
       "   '2. high': '825.5500',\n",
       "   '3. low': '809.2000',\n",
       "   '4. close': '811.8500',\n",
       "   '5. volume': '431577'},\n",
       "  '2024-12-23': {'1. open': '818.3500',\n",
       "   '2. high': '823.9000',\n",
       "   '3. low': '812.4000',\n",
       "   '4. close': '820.9500',\n",
       "   '5. volume': '281649'},\n",
       "  '2024-12-20': {'1. open': '833.8000',\n",
       "   '2. high': '836.4000',\n",
       "   '3. low': '810.0000',\n",
       "   '4. close': '812.5000',\n",
       "   '5. volume': '467910'},\n",
       "  '2024-12-19': {'1. open': '822.0500',\n",
       "   '2. high': '837.9000',\n",
       "   '3. low': '820.1000',\n",
       "   '4. close': '832.8000',\n",
       "   '5. volume': '309033'},\n",
       "  '2024-12-18': {'1. open': '850.2000',\n",
       "   '2. high': '850.8000',\n",
       "   '3. low': '836.7000',\n",
       "   '4. close': '839.0500',\n",
       "   '5. volume': '172425'},\n",
       "  '2024-12-17': {'1. open': '859.7500',\n",
       "   '2. high': '862.9500',\n",
       "   '3. low': '847.1500',\n",
       "   '4. close': '850.2000',\n",
       "   '5. volume': '143409'},\n",
       "  '2024-12-16': {'1. open': '859.0000',\n",
       "   '2. high': '866.2000',\n",
       "   '3. low': '857.8000',\n",
       "   '4. close': '860.7000',\n",
       "   '5. volume': '252691'},\n",
       "  '2024-12-13': {'1. open': '853.7000',\n",
       "   '2. high': '863.0000',\n",
       "   '3. low': '835.0000',\n",
       "   '4. close': '861.7000',\n",
       "   '5. volume': '455324'},\n",
       "  '2024-12-12': {'1. open': '862.5000',\n",
       "   '2. high': '864.2000',\n",
       "   '3. low': '851.2500',\n",
       "   '4. close': '853.7500',\n",
       "   '5. volume': '179011'},\n",
       "  '2024-12-11': {'1. open': '865.7500',\n",
       "   '2. high': '869.7500',\n",
       "   '3. low': '860.8000',\n",
       "   '4. close': '861.5500',\n",
       "   '5. volume': '342069'},\n",
       "  '2024-12-10': {'1. open': '862.0000',\n",
       "   '2. high': '868.8500',\n",
       "   '3. low': '858.5000',\n",
       "   '4. close': '867.6000',\n",
       "   '5. volume': '197287'},\n",
       "  '2024-12-09': {'1. open': '862.9500',\n",
       "   '2. high': '866.8000',\n",
       "   '3. low': '856.7500',\n",
       "   '4. close': '857.8500',\n",
       "   '5. volume': '646144'},\n",
       "  '2024-12-06': {'1. open': '866.9500',\n",
       "   '2. high': '875.5000',\n",
       "   '3. low': '856.8500',\n",
       "   '4. close': '864.0000',\n",
       "   '5. volume': '431320'},\n",
       "  '2024-12-05': {'1. open': '861.6500',\n",
       "   '2. high': '871.0000',\n",
       "   '3. low': '855.6500',\n",
       "   '4. close': '864.8500',\n",
       "   '5. volume': '379508'},\n",
       "  '2024-12-04': {'1. open': '854.4000',\n",
       "   '2. high': '863.8000',\n",
       "   '3. low': '850.2500',\n",
       "   '4. close': '859.4500',\n",
       "   '5. volume': '679548'},\n",
       "  '2024-12-03': {'1. open': '836.4500',\n",
       "   '2. high': '856.6000',\n",
       "   '3. low': '836.4500',\n",
       "   '4. close': '853.9500',\n",
       "   '5. volume': '370485'},\n",
       "  '2024-12-02': {'1. open': '836.2000',\n",
       "   '2. high': '842.0000',\n",
       "   '3. low': '832.8000',\n",
       "   '4. close': '836.2000',\n",
       "   '5. volume': '526054'},\n",
       "  '2024-11-29': {'1. open': '842.0000',\n",
       "   '2. high': '843.8500',\n",
       "   '3. low': '831.5000',\n",
       "   '4. close': '839.0000',\n",
       "   '5. volume': '757635'},\n",
       "  '2024-11-28': {'1. open': '834.9500',\n",
       "   '2. high': '845.7000',\n",
       "   '3. low': '830.3500',\n",
       "   '4. close': '838.7500',\n",
       "   '5. volume': '811586'},\n",
       "  '2024-11-27': {'1. open': '839.3000',\n",
       "   '2. high': '842.1500',\n",
       "   '3. low': '832.0000',\n",
       "   '4. close': '834.2000',\n",
       "   '5. volume': '502957'},\n",
       "  '2024-11-26': {'1. open': '844.7500',\n",
       "   '2. high': '846.7000',\n",
       "   '3. low': '835.2000',\n",
       "   '4. close': '839.3500',\n",
       "   '5. volume': '448647'},\n",
       "  '2024-11-25': {'1. open': '826.2500',\n",
       "   '2. high': '849.3000',\n",
       "   '3. low': '825.9500',\n",
       "   '4. close': '844.7500',\n",
       "   '5. volume': '1612713'},\n",
       "  '2024-11-22': {'1. open': '785.6500',\n",
       "   '2. high': '819.7500',\n",
       "   '3. low': '784.3000',\n",
       "   '4. close': '816.0500',\n",
       "   '5. volume': '1534393'},\n",
       "  '2024-11-21': {'1. open': '800.0000',\n",
       "   '2. high': '800.0000',\n",
       "   '3. low': '761.6500',\n",
       "   '4. close': '780.8500',\n",
       "   '5. volume': '804079'},\n",
       "  '2024-11-19': {'1. open': '817.5500',\n",
       "   '2. high': '820.1000',\n",
       "   '3. low': '800.1000',\n",
       "   '4. close': '802.0000',\n",
       "   '5. volume': '467072'},\n",
       "  '2024-11-18': {'1. open': '810.0500',\n",
       "   '2. high': '816.6500',\n",
       "   '3. low': '799.2000',\n",
       "   '4. close': '813.7000',\n",
       "   '5. volume': '378989'},\n",
       "  '2024-11-14': {'1. open': '809.9500',\n",
       "   '2. high': '817.8500',\n",
       "   '3. low': '801.1000',\n",
       "   '4. close': '804.0500',\n",
       "   '5. volume': '720597'},\n",
       "  '2024-11-13': {'1. open': '822.5000',\n",
       "   '2. high': '831.6500',\n",
       "   '3. low': '804.4500',\n",
       "   '4. close': '808.3500',\n",
       "   '5. volume': '454522'},\n",
       "  '2024-11-12': {'1. open': '851.0000',\n",
       "   '2. high': '853.0000',\n",
       "   '3. low': '824.1000',\n",
       "   '4. close': '826.4000',\n",
       "   '5. volume': '467134'},\n",
       "  '2024-11-11': {'1. open': '847.0000',\n",
       "   '2. high': '853.6500',\n",
       "   '3. low': '841.4500',\n",
       "   '4. close': '847.8000',\n",
       "   '5. volume': '1417460'},\n",
       "  '2024-11-08': {'1. open': '860.0000',\n",
       "   '2. high': '863.6500',\n",
       "   '3. low': '834.3000',\n",
       "   '4. close': '843.2500',\n",
       "   '5. volume': '1106664'},\n",
       "  '2024-11-07': {'1. open': '860.0500',\n",
       "   '2. high': '862.4500',\n",
       "   '3. low': '846.7000',\n",
       "   '4. close': '859.2500',\n",
       "   '5. volume': '494821'},\n",
       "  '2024-11-06': {'1. open': '850.0000',\n",
       "   '2. high': '861.0000',\n",
       "   '3. low': '846.2000',\n",
       "   '4. close': '854.7500',\n",
       "   '5. volume': '896339'},\n",
       "  '2024-11-05': {'1. open': '829.0000',\n",
       "   '2. high': '851.2000',\n",
       "   '3. low': '826.1000',\n",
       "   '4. close': '849.2000',\n",
       "   '5. volume': '1335383'},\n",
       "  '2024-11-04': {'1. open': '822.6500',\n",
       "   '2. high': '837.5000',\n",
       "   '3. low': '807.0500',\n",
       "   '4. close': '829.8500',\n",
       "   '5. volume': '458939'},\n",
       "  '2024-10-31': {'1. open': '821.9500',\n",
       "   '2. high': '828.0000',\n",
       "   '3. low': '813.4500',\n",
       "   '4. close': '820.5000',\n",
       "   '5. volume': '497763'},\n",
       "  '2024-10-30': {'1. open': '830.0000',\n",
       "   '2. high': '832.9000',\n",
       "   '3. low': '821.0500',\n",
       "   '4. close': '822.4000',\n",
       "   '5. volume': '322347'},\n",
       "  '2024-10-29': {'1. open': '796.5000',\n",
       "   '2. high': '834.5000',\n",
       "   '3. low': '790.5000',\n",
       "   '4. close': '832.6500',\n",
       "   '5. volume': '1593501'},\n",
       "  '2024-10-28': {'1. open': '783.2000',\n",
       "   '2. high': '803.9500',\n",
       "   '3. low': '783.2000',\n",
       "   '4. close': '792.0500',\n",
       "   '5. volume': '675658'},\n",
       "  '2024-10-25': {'1. open': '798.4500',\n",
       "   '2. high': '800.0000',\n",
       "   '3. low': '772.0500',\n",
       "   '4. close': '780.6000',\n",
       "   '5. volume': '650630'},\n",
       "  '2024-10-24': {'1. open': '786.0500',\n",
       "   '2. high': '796.8000',\n",
       "   '3. low': '784.5000',\n",
       "   '4. close': '794.7000',\n",
       "   '5. volume': '183971'},\n",
       "  '2024-10-23': {'1. open': '790.0000',\n",
       "   '2. high': '792.5000',\n",
       "   '3. low': '779.6000',\n",
       "   '4. close': '785.9500',\n",
       "   '5. volume': '467975'},\n",
       "  '2024-10-22': {'1. open': '814.1500',\n",
       "   '2. high': '816.3500',\n",
       "   '3. low': '787.6000',\n",
       "   '4. close': '790.4500',\n",
       "   '5. volume': '604778'},\n",
       "  '2024-10-21': {'1. open': '822.0500',\n",
       "   '2. high': '826.3500',\n",
       "   '3. low': '809.1000',\n",
       "   '4. close': '814.1500',\n",
       "   '5. volume': '584223'},\n",
       "  '2024-10-18': {'1. open': '811.0000',\n",
       "   '2. high': '822.4000',\n",
       "   '3. low': '803.1000',\n",
       "   '4. close': '819.9500',\n",
       "   '5. volume': '429099'},\n",
       "  '2024-10-17': {'1. open': '806.0500',\n",
       "   '2. high': '819.2500',\n",
       "   '3. low': '806.0500',\n",
       "   '4. close': '810.9000',\n",
       "   '5. volume': '948591'}}}"
      ]
     },
     "execution_count": 11,
     "metadata": {},
     "output_type": "execute_result"
    }
   ],
   "source": [
    "import requests\n",
    "\n",
    "url = \"https://alpha-vantage.p.rapidapi.com/query\"\n",
    "\n",
    "querystring = {\"function\":\"TIME_SERIES_DAILY\",\"symbol\":\"SBIN.BSE\",\"outputsize\":\"compact\",\"datatype\":\"json\"}\n",
    "\n",
    "headers = {\n",
    "\t\"x-rapidapi-key\": \"8aa88c42fdmsh086ad665e72d7f9p15b06fjsn7d132b9f5bbb\",\n",
    "\t\"x-rapidapi-host\": \"alpha-vantage.p.rapidapi.com\"\n",
    "}\n",
    "\n",
    "response = requests.get(url, headers=headers, params=querystring)\n",
    "\n",
    "data2 = response.json()\n",
    "\n",
    "data2"
   ]
  },
  {
   "cell_type": "code",
   "execution_count": 13,
   "metadata": {},
   "outputs": [
    {
     "data": {
      "text/plain": [
       "dict_keys(['Meta Data', 'Time Series (Daily)'])"
      ]
     },
     "execution_count": 13,
     "metadata": {},
     "output_type": "execute_result"
    }
   ],
   "source": [
    "data2.keys()"
   ]
  },
  {
   "cell_type": "code",
   "execution_count": 14,
   "metadata": {},
   "outputs": [],
   "source": [
    "prices = data2[\"Time Series (Daily)\"]"
   ]
  },
  {
   "cell_type": "code",
   "execution_count": 15,
   "metadata": {},
   "outputs": [
    {
     "data": {
      "text/html": [
       "<div>\n",
       "<style scoped>\n",
       "    .dataframe tbody tr th:only-of-type {\n",
       "        vertical-align: middle;\n",
       "    }\n",
       "\n",
       "    .dataframe tbody tr th {\n",
       "        vertical-align: top;\n",
       "    }\n",
       "\n",
       "    .dataframe thead th {\n",
       "        text-align: right;\n",
       "    }\n",
       "</style>\n",
       "<table border=\"1\" class=\"dataframe\">\n",
       "  <thead>\n",
       "    <tr style=\"text-align: right;\">\n",
       "      <th></th>\n",
       "      <th>1. open</th>\n",
       "      <th>2. high</th>\n",
       "      <th>3. low</th>\n",
       "      <th>4. close</th>\n",
       "      <th>5. volume</th>\n",
       "    </tr>\n",
       "  </thead>\n",
       "  <tbody>\n",
       "    <tr>\n",
       "      <th>2025-03-12</th>\n",
       "      <td>729.9500</td>\n",
       "      <td>736.5000</td>\n",
       "      <td>719.2000</td>\n",
       "      <td>722.9000</td>\n",
       "      <td>198814</td>\n",
       "    </tr>\n",
       "    <tr>\n",
       "      <th>2025-03-11</th>\n",
       "      <td>724.9000</td>\n",
       "      <td>733.9000</td>\n",
       "      <td>722.5000</td>\n",
       "      <td>729.9500</td>\n",
       "      <td>285624</td>\n",
       "    </tr>\n",
       "    <tr>\n",
       "      <th>2025-03-10</th>\n",
       "      <td>732.9500</td>\n",
       "      <td>738.4500</td>\n",
       "      <td>727.0500</td>\n",
       "      <td>728.3500</td>\n",
       "      <td>339175</td>\n",
       "    </tr>\n",
       "    <tr>\n",
       "      <th>2025-03-07</th>\n",
       "      <td>732.9500</td>\n",
       "      <td>734.9000</td>\n",
       "      <td>727.9500</td>\n",
       "      <td>732.7500</td>\n",
       "      <td>288192</td>\n",
       "    </tr>\n",
       "    <tr>\n",
       "      <th>2025-03-06</th>\n",
       "      <td>737.9500</td>\n",
       "      <td>737.9500</td>\n",
       "      <td>727.1000</td>\n",
       "      <td>731.9500</td>\n",
       "      <td>321519</td>\n",
       "    </tr>\n",
       "    <tr>\n",
       "      <th>...</th>\n",
       "      <td>...</td>\n",
       "      <td>...</td>\n",
       "      <td>...</td>\n",
       "      <td>...</td>\n",
       "      <td>...</td>\n",
       "    </tr>\n",
       "    <tr>\n",
       "      <th>2024-10-23</th>\n",
       "      <td>790.0000</td>\n",
       "      <td>792.5000</td>\n",
       "      <td>779.6000</td>\n",
       "      <td>785.9500</td>\n",
       "      <td>467975</td>\n",
       "    </tr>\n",
       "    <tr>\n",
       "      <th>2024-10-22</th>\n",
       "      <td>814.1500</td>\n",
       "      <td>816.3500</td>\n",
       "      <td>787.6000</td>\n",
       "      <td>790.4500</td>\n",
       "      <td>604778</td>\n",
       "    </tr>\n",
       "    <tr>\n",
       "      <th>2024-10-21</th>\n",
       "      <td>822.0500</td>\n",
       "      <td>826.3500</td>\n",
       "      <td>809.1000</td>\n",
       "      <td>814.1500</td>\n",
       "      <td>584223</td>\n",
       "    </tr>\n",
       "    <tr>\n",
       "      <th>2024-10-18</th>\n",
       "      <td>811.0000</td>\n",
       "      <td>822.4000</td>\n",
       "      <td>803.1000</td>\n",
       "      <td>819.9500</td>\n",
       "      <td>429099</td>\n",
       "    </tr>\n",
       "    <tr>\n",
       "      <th>2024-10-17</th>\n",
       "      <td>806.0500</td>\n",
       "      <td>819.2500</td>\n",
       "      <td>806.0500</td>\n",
       "      <td>810.9000</td>\n",
       "      <td>948591</td>\n",
       "    </tr>\n",
       "  </tbody>\n",
       "</table>\n",
       "<p>100 rows × 5 columns</p>\n",
       "</div>"
      ],
      "text/plain": [
       "             1. open   2. high    3. low  4. close 5. volume\n",
       "2025-03-12  729.9500  736.5000  719.2000  722.9000    198814\n",
       "2025-03-11  724.9000  733.9000  722.5000  729.9500    285624\n",
       "2025-03-10  732.9500  738.4500  727.0500  728.3500    339175\n",
       "2025-03-07  732.9500  734.9000  727.9500  732.7500    288192\n",
       "2025-03-06  737.9500  737.9500  727.1000  731.9500    321519\n",
       "...              ...       ...       ...       ...       ...\n",
       "2024-10-23  790.0000  792.5000  779.6000  785.9500    467975\n",
       "2024-10-22  814.1500  816.3500  787.6000  790.4500    604778\n",
       "2024-10-21  822.0500  826.3500  809.1000  814.1500    584223\n",
       "2024-10-18  811.0000  822.4000  803.1000  819.9500    429099\n",
       "2024-10-17  806.0500  819.2500  806.0500  810.9000    948591\n",
       "\n",
       "[100 rows x 5 columns]"
      ]
     },
     "execution_count": 15,
     "metadata": {},
     "output_type": "execute_result"
    }
   ],
   "source": [
    "import pandas as pd\n",
    "df = pd.DataFrame(prices).T\n",
    "df"
   ]
  },
  {
   "cell_type": "code",
   "execution_count": 16,
   "metadata": {},
   "outputs": [
    {
     "data": {
      "text/plain": [
       "1. open      object\n",
       "2. high      object\n",
       "3. low       object\n",
       "4. close     object\n",
       "5. volume    object\n",
       "dtype: object"
      ]
     },
     "execution_count": 16,
     "metadata": {},
     "output_type": "execute_result"
    }
   ],
   "source": [
    "df.dtypes"
   ]
  },
  {
   "cell_type": "code",
   "execution_count": 17,
   "metadata": {},
   "outputs": [
    {
     "data": {
      "text/plain": [
       "1. open      float64\n",
       "2. high      float64\n",
       "3. low       float64\n",
       "4. close     float64\n",
       "5. volume    float64\n",
       "dtype: object"
      ]
     },
     "execution_count": 17,
     "metadata": {},
     "output_type": "execute_result"
    }
   ],
   "source": [
    "# Convert all data to float\n",
    "df = df.astype(float)\n",
    "df.dtypes"
   ]
  },
  {
   "cell_type": "code",
   "execution_count": 18,
   "metadata": {},
   "outputs": [
    {
     "data": {
      "text/plain": [
       "Index(['2025-03-12', '2025-03-11', '2025-03-10', '2025-03-07', '2025-03-06',\n",
       "       '2025-03-05', '2025-03-04', '2025-03-03', '2025-02-28', '2025-02-27',\n",
       "       '2025-02-25', '2025-02-24', '2025-02-21', '2025-02-20', '2025-02-19',\n",
       "       '2025-02-18', '2025-02-17', '2025-02-14', '2025-02-13', '2025-02-12',\n",
       "       '2025-02-11', '2025-02-10', '2025-02-07', '2025-02-06', '2025-02-05',\n",
       "       '2025-02-04', '2025-02-03', '2025-01-31', '2025-01-30', '2025-01-29',\n",
       "       '2025-01-28', '2025-01-27', '2025-01-24', '2025-01-23', '2025-01-22',\n",
       "       '2025-01-21', '2025-01-20', '2025-01-17', '2025-01-16', '2025-01-15',\n",
       "       '2025-01-14', '2025-01-13', '2025-01-10', '2025-01-09', '2025-01-08',\n",
       "       '2025-01-07', '2025-01-06', '2025-01-03', '2025-01-02', '2025-01-01',\n",
       "       '2024-12-31', '2024-12-30', '2024-12-27', '2024-12-26', '2024-12-24',\n",
       "       '2024-12-23', '2024-12-20', '2024-12-19', '2024-12-18', '2024-12-17',\n",
       "       '2024-12-16', '2024-12-13', '2024-12-12', '2024-12-11', '2024-12-10',\n",
       "       '2024-12-09', '2024-12-06', '2024-12-05', '2024-12-04', '2024-12-03',\n",
       "       '2024-12-02', '2024-11-29', '2024-11-28', '2024-11-27', '2024-11-26',\n",
       "       '2024-11-25', '2024-11-22', '2024-11-21', '2024-11-19', '2024-11-18',\n",
       "       '2024-11-14', '2024-11-13', '2024-11-12', '2024-11-11', '2024-11-08',\n",
       "       '2024-11-07', '2024-11-06', '2024-11-05', '2024-11-04', '2024-10-31',\n",
       "       '2024-10-30', '2024-10-29', '2024-10-28', '2024-10-25', '2024-10-24',\n",
       "       '2024-10-23', '2024-10-22', '2024-10-21', '2024-10-18', '2024-10-17'],\n",
       "      dtype='object')"
      ]
     },
     "execution_count": 18,
     "metadata": {},
     "output_type": "execute_result"
    }
   ],
   "source": [
    "# Index not in date format\n",
    "df.index"
   ]
  },
  {
   "cell_type": "code",
   "execution_count": 19,
   "metadata": {},
   "outputs": [
    {
     "data": {
      "text/plain": [
       "DatetimeIndex(['2025-03-12', '2025-03-11', '2025-03-10', '2025-03-07',\n",
       "               '2025-03-06', '2025-03-05', '2025-03-04', '2025-03-03',\n",
       "               '2025-02-28', '2025-02-27', '2025-02-25', '2025-02-24',\n",
       "               '2025-02-21', '2025-02-20', '2025-02-19', '2025-02-18',\n",
       "               '2025-02-17', '2025-02-14', '2025-02-13', '2025-02-12',\n",
       "               '2025-02-11', '2025-02-10', '2025-02-07', '2025-02-06',\n",
       "               '2025-02-05', '2025-02-04', '2025-02-03', '2025-01-31',\n",
       "               '2025-01-30', '2025-01-29', '2025-01-28', '2025-01-27',\n",
       "               '2025-01-24', '2025-01-23', '2025-01-22', '2025-01-21',\n",
       "               '2025-01-20', '2025-01-17', '2025-01-16', '2025-01-15',\n",
       "               '2025-01-14', '2025-01-13', '2025-01-10', '2025-01-09',\n",
       "               '2025-01-08', '2025-01-07', '2025-01-06', '2025-01-03',\n",
       "               '2025-01-02', '2025-01-01', '2024-12-31', '2024-12-30',\n",
       "               '2024-12-27', '2024-12-26', '2024-12-24', '2024-12-23',\n",
       "               '2024-12-20', '2024-12-19', '2024-12-18', '2024-12-17',\n",
       "               '2024-12-16', '2024-12-13', '2024-12-12', '2024-12-11',\n",
       "               '2024-12-10', '2024-12-09', '2024-12-06', '2024-12-05',\n",
       "               '2024-12-04', '2024-12-03', '2024-12-02', '2024-11-29',\n",
       "               '2024-11-28', '2024-11-27', '2024-11-26', '2024-11-25',\n",
       "               '2024-11-22', '2024-11-21', '2024-11-19', '2024-11-18',\n",
       "               '2024-11-14', '2024-11-13', '2024-11-12', '2024-11-11',\n",
       "               '2024-11-08', '2024-11-07', '2024-11-06', '2024-11-05',\n",
       "               '2024-11-04', '2024-10-31', '2024-10-30', '2024-10-29',\n",
       "               '2024-10-28', '2024-10-25', '2024-10-24', '2024-10-23',\n",
       "               '2024-10-22', '2024-10-21', '2024-10-18', '2024-10-17'],\n",
       "              dtype='datetime64[ns]', freq=None)"
      ]
     },
     "execution_count": 19,
     "metadata": {},
     "output_type": "execute_result"
    }
   ],
   "source": [
    "df.index = pd.to_datetime(df.index)\n",
    "df.index"
   ]
  },
  {
   "cell_type": "code",
   "execution_count": 20,
   "metadata": {},
   "outputs": [],
   "source": [
    "df.index.name = \"Date\""
   ]
  },
  {
   "cell_type": "code",
   "execution_count": 21,
   "metadata": {},
   "outputs": [
    {
     "data": {
      "text/html": [
       "<div>\n",
       "<style scoped>\n",
       "    .dataframe tbody tr th:only-of-type {\n",
       "        vertical-align: middle;\n",
       "    }\n",
       "\n",
       "    .dataframe tbody tr th {\n",
       "        vertical-align: top;\n",
       "    }\n",
       "\n",
       "    .dataframe thead th {\n",
       "        text-align: right;\n",
       "    }\n",
       "</style>\n",
       "<table border=\"1\" class=\"dataframe\">\n",
       "  <thead>\n",
       "    <tr style=\"text-align: right;\">\n",
       "      <th></th>\n",
       "      <th>1. open</th>\n",
       "      <th>2. high</th>\n",
       "      <th>3. low</th>\n",
       "      <th>4. close</th>\n",
       "      <th>5. volume</th>\n",
       "    </tr>\n",
       "    <tr>\n",
       "      <th>Date</th>\n",
       "      <th></th>\n",
       "      <th></th>\n",
       "      <th></th>\n",
       "      <th></th>\n",
       "      <th></th>\n",
       "    </tr>\n",
       "  </thead>\n",
       "  <tbody>\n",
       "    <tr>\n",
       "      <th>2025-03-12</th>\n",
       "      <td>729.95</td>\n",
       "      <td>736.50</td>\n",
       "      <td>719.20</td>\n",
       "      <td>722.90</td>\n",
       "      <td>198814.0</td>\n",
       "    </tr>\n",
       "    <tr>\n",
       "      <th>2025-03-11</th>\n",
       "      <td>724.90</td>\n",
       "      <td>733.90</td>\n",
       "      <td>722.50</td>\n",
       "      <td>729.95</td>\n",
       "      <td>285624.0</td>\n",
       "    </tr>\n",
       "    <tr>\n",
       "      <th>2025-03-10</th>\n",
       "      <td>732.95</td>\n",
       "      <td>738.45</td>\n",
       "      <td>727.05</td>\n",
       "      <td>728.35</td>\n",
       "      <td>339175.0</td>\n",
       "    </tr>\n",
       "    <tr>\n",
       "      <th>2025-03-07</th>\n",
       "      <td>732.95</td>\n",
       "      <td>734.90</td>\n",
       "      <td>727.95</td>\n",
       "      <td>732.75</td>\n",
       "      <td>288192.0</td>\n",
       "    </tr>\n",
       "    <tr>\n",
       "      <th>2025-03-06</th>\n",
       "      <td>737.95</td>\n",
       "      <td>737.95</td>\n",
       "      <td>727.10</td>\n",
       "      <td>731.95</td>\n",
       "      <td>321519.0</td>\n",
       "    </tr>\n",
       "    <tr>\n",
       "      <th>...</th>\n",
       "      <td>...</td>\n",
       "      <td>...</td>\n",
       "      <td>...</td>\n",
       "      <td>...</td>\n",
       "      <td>...</td>\n",
       "    </tr>\n",
       "    <tr>\n",
       "      <th>2024-10-23</th>\n",
       "      <td>790.00</td>\n",
       "      <td>792.50</td>\n",
       "      <td>779.60</td>\n",
       "      <td>785.95</td>\n",
       "      <td>467975.0</td>\n",
       "    </tr>\n",
       "    <tr>\n",
       "      <th>2024-10-22</th>\n",
       "      <td>814.15</td>\n",
       "      <td>816.35</td>\n",
       "      <td>787.60</td>\n",
       "      <td>790.45</td>\n",
       "      <td>604778.0</td>\n",
       "    </tr>\n",
       "    <tr>\n",
       "      <th>2024-10-21</th>\n",
       "      <td>822.05</td>\n",
       "      <td>826.35</td>\n",
       "      <td>809.10</td>\n",
       "      <td>814.15</td>\n",
       "      <td>584223.0</td>\n",
       "    </tr>\n",
       "    <tr>\n",
       "      <th>2024-10-18</th>\n",
       "      <td>811.00</td>\n",
       "      <td>822.40</td>\n",
       "      <td>803.10</td>\n",
       "      <td>819.95</td>\n",
       "      <td>429099.0</td>\n",
       "    </tr>\n",
       "    <tr>\n",
       "      <th>2024-10-17</th>\n",
       "      <td>806.05</td>\n",
       "      <td>819.25</td>\n",
       "      <td>806.05</td>\n",
       "      <td>810.90</td>\n",
       "      <td>948591.0</td>\n",
       "    </tr>\n",
       "  </tbody>\n",
       "</table>\n",
       "<p>100 rows × 5 columns</p>\n",
       "</div>"
      ],
      "text/plain": [
       "            1. open  2. high  3. low  4. close  5. volume\n",
       "Date                                                     \n",
       "2025-03-12   729.95   736.50  719.20    722.90   198814.0\n",
       "2025-03-11   724.90   733.90  722.50    729.95   285624.0\n",
       "2025-03-10   732.95   738.45  727.05    728.35   339175.0\n",
       "2025-03-07   732.95   734.90  727.95    732.75   288192.0\n",
       "2025-03-06   737.95   737.95  727.10    731.95   321519.0\n",
       "...             ...      ...     ...       ...        ...\n",
       "2024-10-23   790.00   792.50  779.60    785.95   467975.0\n",
       "2024-10-22   814.15   816.35  787.60    790.45   604778.0\n",
       "2024-10-21   822.05   826.35  809.10    814.15   584223.0\n",
       "2024-10-18   811.00   822.40  803.10    819.95   429099.0\n",
       "2024-10-17   806.05   819.25  806.05    810.90   948591.0\n",
       "\n",
       "[100 rows x 5 columns]"
      ]
     },
     "execution_count": 21,
     "metadata": {},
     "output_type": "execute_result"
    }
   ],
   "source": [
    "df"
   ]
  },
  {
   "cell_type": "code",
   "execution_count": 22,
   "metadata": {},
   "outputs": [],
   "source": [
    "df.to_csv(\"SBIN.csv\")"
   ]
  },
  {
   "cell_type": "markdown",
   "metadata": {},
   "source": [
    "## Visualize candlestick chart\n"
   ]
  },
  {
   "cell_type": "code",
   "execution_count": 23,
   "metadata": {},
   "outputs": [
    {
     "name": "stdout",
     "output_type": "stream",
     "text": [
      "Requirement already satisfied: plotly in c:\\users\\prach\\downloads\\advance python\\repository\\venv\\lib\\site-packages (6.0.0)\n",
      "Requirement already satisfied: nbformat in c:\\users\\prach\\downloads\\advance python\\repository\\venv\\lib\\site-packages (5.10.4)\n",
      "Requirement already satisfied: narwhals>=1.15.1 in c:\\users\\prach\\downloads\\advance python\\repository\\venv\\lib\\site-packages (from plotly) (1.25.2)\n",
      "Requirement already satisfied: packaging in c:\\users\\prach\\downloads\\advance python\\repository\\venv\\lib\\site-packages (from plotly) (24.2)\n",
      "Requirement already satisfied: fastjsonschema>=2.15 in c:\\users\\prach\\downloads\\advance python\\repository\\venv\\lib\\site-packages (from nbformat) (2.21.1)\n",
      "Requirement already satisfied: jsonschema>=2.6 in c:\\users\\prach\\downloads\\advance python\\repository\\venv\\lib\\site-packages (from nbformat) (4.23.0)\n",
      "Requirement already satisfied: jupyter-core!=5.0.*,>=4.12 in c:\\users\\prach\\downloads\\advance python\\repository\\venv\\lib\\site-packages (from nbformat) (5.7.2)\n",
      "Requirement already satisfied: traitlets>=5.1 in c:\\users\\prach\\downloads\\advance python\\repository\\venv\\lib\\site-packages (from nbformat) (5.14.3)\n",
      "Requirement already satisfied: attrs>=22.2.0 in c:\\users\\prach\\downloads\\advance python\\repository\\venv\\lib\\site-packages (from jsonschema>=2.6->nbformat) (25.1.0)\n",
      "Requirement already satisfied: jsonschema-specifications>=2023.03.6 in c:\\users\\prach\\downloads\\advance python\\repository\\venv\\lib\\site-packages (from jsonschema>=2.6->nbformat) (2024.10.1)\n",
      "Requirement already satisfied: referencing>=0.28.4 in c:\\users\\prach\\downloads\\advance python\\repository\\venv\\lib\\site-packages (from jsonschema>=2.6->nbformat) (0.36.2)\n",
      "Requirement already satisfied: rpds-py>=0.7.1 in c:\\users\\prach\\downloads\\advance python\\repository\\venv\\lib\\site-packages (from jsonschema>=2.6->nbformat) (0.22.3)\n",
      "Requirement already satisfied: platformdirs>=2.5 in c:\\users\\prach\\downloads\\advance python\\repository\\venv\\lib\\site-packages (from jupyter-core!=5.0.*,>=4.12->nbformat) (4.3.6)\n",
      "Requirement already satisfied: pywin32>=300 in c:\\users\\prach\\downloads\\advance python\\repository\\venv\\lib\\site-packages (from jupyter-core!=5.0.*,>=4.12->nbformat) (308)\n",
      "Note: you may need to restart the kernel to use updated packages.\n"
     ]
    },
    {
     "name": "stderr",
     "output_type": "stream",
     "text": [
      "\n",
      "[notice] A new release of pip is available: 25.0 -> 25.0.1\n",
      "[notice] To update, run: python.exe -m pip install --upgrade pip\n"
     ]
    }
   ],
   "source": [
    "%pip install plotly nbformat"
   ]
  },
  {
   "cell_type": "code",
   "execution_count": 24,
   "metadata": {},
   "outputs": [],
   "source": [
    "import plotly.graph_objects as go"
   ]
  },
  {
   "cell_type": "code",
   "execution_count": 25,
   "metadata": {},
   "outputs": [
    {
     "data": {
      "application/vnd.plotly.v1+json": {
       "config": {
        "plotlyServerURL": "https://plot.ly"
       },
       "data": [
        {
         "close": {
          "bdata": "MzMzMzOXhkCamZmZmc+GQM3MzMzMwoZAAAAAAADmhkCamZmZmd+GQAAAAAAA0oZAMzMzMzNhhkAzMzMzM7mFQAAAAAAAgoVAmpmZmZn/hUAAAAAAADiGQDMzMzMzY4ZAZmZmZmaMhkAzMzMzM82GQGZmZmZmtoZAAAAAAACuhkBmZmZmZsCGQAAAAAAAkIZAZmZmZma6hkAAAAAAAOqGQAAAAAAA2IZAzczMzMwGh0BmZmZmZgiHQM3MzMzMgodAzczMzMzwh0CamZmZmVmIQAAAAAAAyIdAzczMzMwoiECamZmZmdGHQJqZmZmZtYdAMzMzMzN9h0CamZmZmWmHQM3MzMzMQodAmpmZmZlPh0AAAAAAAIqHQAAAAAAAuIdAZmZmZmZYiEDNzMzMzOCHQDMzMzMz84dAAAAAAACQh0DNzMzMzGCHQM3MzMzMzIZAMzMzMzM5h0DNzMzMzMKHQJqZmZmZGYhAAAAAAABYiEAAAAAAAEaIQAAAAAAAzIhAZmZmZmYIiUDNzMzMzMqIQGZmZmZm2IhAZmZmZmaiiEBmZmZmZvyIQDMzMzMzXYlAzczMzMxeiUCamZmZmaeJQAAAAAAAZIlAZmZmZmYGikBmZmZmZjiKQJqZmZmZkYpAmpmZmZnlikCamZmZme2KQAAAAAAAropAZmZmZmbsikDNzMzMzByLQM3MzMzMzopAAAAAAAAAi0DNzMzMzAaLQJqZmZmZ24pAmpmZmZmvikCamZmZmSGKQAAAAAAAOIpAAAAAAAA2ikCamZmZmRGKQM3MzMzMOopAAAAAAABmikBmZmZmZoCJQM3MzMzMZohAAAAAAAAQiUCamZmZmW2JQGZmZmZmIIlAzczMzMxCiUAzMzMzM9OJQGZmZmZmfopAAAAAAABaikAAAAAAANqKQAAAAAAAtopAmpmZmZmJikDNzMzMzO6JQAAAAAAApIlAMzMzMzOziUAzMzMzMwWKQGZmZmZmwIhAzczMzMxkiECamZmZmdWIQJqZmZmZj4hAmpmZmZmziEAzMzMzM3GJQJqZmZmZn4lAMzMzMzNXiUA=",
          "dtype": "f8"
         },
         "high": {
          "bdata": "AAAAAAAEh0AzMzMzM++GQJqZmZmZE4dAMzMzMzP3hkCamZmZmQ+HQAAAAAAA2IZAMzMzMzNxhkDNzMzMzMaFQGZmZmZm7oVAMzMzMzNnhkAAAAAAAHiGQGZmZmZmfoZAAAAAAADghkBmZmZmZt6GQAAAAAAA9oZAmpmZmZm/hkCamZmZmceGQJqZmZmZ5YZAZmZmZmYKh0BmZmZmZhKHQAAAAAAAIIdAZmZmZmZAh0BmZmZmZs6HQJqZmZmZF4hAzczMzMxsiEDNzMzMzGaIQDMzMzMz3YdAAAAAAABOiEDNzMzMzOaHQAAAAAAAwodAzczMzMy8h0BmZmZmZpqHQAAAAAAAjodAZmZmZmaeh0DNzMzMzNaHQGZmZmZmiohAmpmZmZmHiEDNzMzMzP6HQGZmZmZmRIhAzczMzMy2h0AzMzMzM6eHQM3MzMzMPodAZmZmZmbGh0CamZmZmR+IQAAAAAAAdIhAAAAAAAB+iEAAAAAAAPCIQJqZmZmZTYlAMzMzMzMTiUAAAAAAAPSIQJqZmZmZ94hAAAAAAABAiUAAAAAAAJaJQJqZmZmZt4lAZmZmZmbMiUAzMzMzM7+JQDMzMzMzI4pAMzMzMzMvikBmZmZmZpaKQJqZmZmZ94pAmpmZmZkRi0AAAAAAAPiKQJqZmZmZAYtAAAAAAAAui0DNzMzMzCaLQGZmZmZmFotAAAAAAABci0AAAAAAADiLQGZmZmZm/opAzczMzMzEikAAAAAAAFCKQM3MzMzMXopAmpmZmZltikAzMzMzM1GKQJqZmZmZdYpAZmZmZmaKikAAAAAAAJ6JQAAAAAAAAIlAzczMzMygiUAzMzMzM4WJQM3MzMzMjolAMzMzMzP9iUAAAAAAAKiKQDMzMzMzrYpAMzMzMzP9ikCamZmZmfOKQAAAAAAA6IpAmpmZmZmZikAAAAAAACyKQAAAAAAA4IlAMzMzMzMHikAAAAAAABSKQJqZmZmZH4lAAAAAAAAAiUBmZmZmZuaIQAAAAAAAxIhAzczMzMyCiUDNzMzMzNKJQDMzMzMzs4lAAAAAAACaiUA=",
          "dtype": "f8"
         },
         "low": {
          "bdata": "mpmZmZl5hkAAAAAAAJSGQGZmZmZmuIZAmpmZmZm/hkDNzMzMzLiGQGZmZmZmboZAMzMzMzOhhUAzMzMzMz2FQM3MzMzMVoVAAAAAAADohUCamZmZmS+GQDMzMzMzN4ZAAAAAAACAhkBmZmZmZpiGQM3MzMzMkIZAmpmZmZlrhkAzMzMzMzuGQDMzMzMzYYZAZmZmZmawhkAAAAAAAGqGQDMzMzMzt4ZAzczMzMzshkBmZmZmZuCGQAAAAAAAcIdAMzMzMzPlh0AAAAAAAPCHQJqZmZmZi4dAzczMzMy6h0CamZmZmZWHQGZmZmZmbodAMzMzMzNNh0AAAAAAAACHQM3MzMzMFodAZmZmZmY6h0BmZmZmZhKHQAAAAAAAoodAZmZmZmboh0CamZmZmbuHQGZmZmZmwIdAzczMzMxyh0DNzMzMzNSGQAAAAAAAlIZAAAAAAAAwh0AzMzMzM7eGQM3MzMzMwIdAzczMzMw4iEBmZmZmZiqIQAAAAAAAwohAZmZmZmaSiEDNzMzMzKyIQAAAAAAAmIhAmpmZmZmJiEAAAAAAAOqIQAAAAAAAQIlAmpmZmZlJiUAzMzMzM2OJQAAAAAAAUIlAzczMzMygiUCamZmZmSWKQDMzMzMzeYpAZmZmZmbOikAAAAAAABiKQAAAAAAAmopAZmZmZmbmikAAAAAAANSKQAAAAAAAxopAzczMzMzGikAzMzMzM72KQAAAAAAAkopAmpmZmZkjikBmZmZmZgaKQAAAAAAA/IlAzczMzMzyiUAAAAAAAACKQJqZmZmZGYpAmpmZmZnPiUBmZmZmZoKIQDMzMzMzzYdAzczMzMwAiUCamZmZmfmIQM3MzMzMCIlAmpmZmZkjiUDNzMzMzMCJQJqZmZmZS4pAZmZmZmYSikCamZmZmXWKQJqZmZmZcYpAzczMzMzQiUBmZmZmZjiJQJqZmZmZa4lAZmZmZmaoiUAAAAAAALSIQJqZmZmZeYhAZmZmZmYgiEAAAAAAAISIQM3MzMzMXIhAzczMzMyciEDNzMzMzEiJQM3MzMzMGIlAZmZmZmYwiUA=",
          "dtype": "f8"
         },
         "open": {
          "bdata": "mpmZmZnPhkAzMzMzM6eGQJqZmZmZ54ZAmpmZmZnnhkCamZmZmQ+HQM3MzMzMdoZAMzMzMzOrhUAAAAAAAKKFQGZmZmZm7oVAMzMzMzNnhkAAAAAAAHiGQDMzMzMzRYZAmpmZmZnJhkBmZmZmZr6GQGZmZmZmloZAmpmZmZm/hkDNzMzMzI6GQJqZmZmZy4ZAAAAAAAD4hkCamZmZmeeGQDMzMzMzEYdAZmZmZmYkh0BmZmZmZs6HQDMzMzMzDYhAZmZmZmZmiEBmZmZmZvKHQDMzMzMz3YdAAAAAAADoh0AzMzMzM7uHQAAAAAAAhIdAmpmZmZmhh0AAAAAAACCHQJqZmZmZWYdAmpmZmZl/h0DNzMzMzNaHQJqZmZmZh4hAZmZmZmboh0AzMzMzM/eHQDMzMzMzzYdAmpmZmZmNh0DNzMzMzNSGQJqZmZmZN4dAzczMzMzCh0CamZmZmR+IQAAAAAAAaIhAZmZmZmZQiEAAAAAAAPCIQDMzMzMzD4lAAAAAAADYiEDNzMzMzOaIQAAAAAAApohAmpmZmZkViUAAAAAAAIqJQAAAAAAAaIlAAAAAAADIiUDNzMzMzJKJQGZmZmZmDopAZmZmZmawiUCamZmZmZGKQAAAAAAA3opAAAAAAADYikCamZmZma2KQAAAAAAA9IpAAAAAAAAOi0AAAAAAAPCKQJqZmZmZ94pAmpmZmZkXi0AzMzMzM+2KQDMzMzMzs4pAmpmZmZkjikCamZmZmSGKQAAAAAAAUIpAmpmZmZkXikBmZmZmZjqKQAAAAAAAZopAAAAAAADSiUAzMzMzM42IQAAAAAAAAIlAZmZmZmaMiUBmZmZmZlCJQJqZmZmZT4lAAAAAAAC0iUAAAAAAAJiKQAAAAAAAeIpAAAAAAADgikBmZmZmZuCKQAAAAAAAkIpAAAAAAADoiUAzMzMzM7WJQJqZmZmZr4lAAAAAAADwiUAAAAAAAOSIQJqZmZmZeYhAmpmZmZnziEBmZmZmZpCIQAAAAAAAsIhAMzMzMzNxiUBmZmZmZrCJQAAAAAAAWIlAZmZmZmYwiUA=",
          "dtype": "f8"
         },
         "type": "candlestick",
         "x": [
          "2025-03-12T00:00:00.000000000",
          "2025-03-11T00:00:00.000000000",
          "2025-03-10T00:00:00.000000000",
          "2025-03-07T00:00:00.000000000",
          "2025-03-06T00:00:00.000000000",
          "2025-03-05T00:00:00.000000000",
          "2025-03-04T00:00:00.000000000",
          "2025-03-03T00:00:00.000000000",
          "2025-02-28T00:00:00.000000000",
          "2025-02-27T00:00:00.000000000",
          "2025-02-25T00:00:00.000000000",
          "2025-02-24T00:00:00.000000000",
          "2025-02-21T00:00:00.000000000",
          "2025-02-20T00:00:00.000000000",
          "2025-02-19T00:00:00.000000000",
          "2025-02-18T00:00:00.000000000",
          "2025-02-17T00:00:00.000000000",
          "2025-02-14T00:00:00.000000000",
          "2025-02-13T00:00:00.000000000",
          "2025-02-12T00:00:00.000000000",
          "2025-02-11T00:00:00.000000000",
          "2025-02-10T00:00:00.000000000",
          "2025-02-07T00:00:00.000000000",
          "2025-02-06T00:00:00.000000000",
          "2025-02-05T00:00:00.000000000",
          "2025-02-04T00:00:00.000000000",
          "2025-02-03T00:00:00.000000000",
          "2025-01-31T00:00:00.000000000",
          "2025-01-30T00:00:00.000000000",
          "2025-01-29T00:00:00.000000000",
          "2025-01-28T00:00:00.000000000",
          "2025-01-27T00:00:00.000000000",
          "2025-01-24T00:00:00.000000000",
          "2025-01-23T00:00:00.000000000",
          "2025-01-22T00:00:00.000000000",
          "2025-01-21T00:00:00.000000000",
          "2025-01-20T00:00:00.000000000",
          "2025-01-17T00:00:00.000000000",
          "2025-01-16T00:00:00.000000000",
          "2025-01-15T00:00:00.000000000",
          "2025-01-14T00:00:00.000000000",
          "2025-01-13T00:00:00.000000000",
          "2025-01-10T00:00:00.000000000",
          "2025-01-09T00:00:00.000000000",
          "2025-01-08T00:00:00.000000000",
          "2025-01-07T00:00:00.000000000",
          "2025-01-06T00:00:00.000000000",
          "2025-01-03T00:00:00.000000000",
          "2025-01-02T00:00:00.000000000",
          "2025-01-01T00:00:00.000000000",
          "2024-12-31T00:00:00.000000000",
          "2024-12-30T00:00:00.000000000",
          "2024-12-27T00:00:00.000000000",
          "2024-12-26T00:00:00.000000000",
          "2024-12-24T00:00:00.000000000",
          "2024-12-23T00:00:00.000000000",
          "2024-12-20T00:00:00.000000000",
          "2024-12-19T00:00:00.000000000",
          "2024-12-18T00:00:00.000000000",
          "2024-12-17T00:00:00.000000000",
          "2024-12-16T00:00:00.000000000",
          "2024-12-13T00:00:00.000000000",
          "2024-12-12T00:00:00.000000000",
          "2024-12-11T00:00:00.000000000",
          "2024-12-10T00:00:00.000000000",
          "2024-12-09T00:00:00.000000000",
          "2024-12-06T00:00:00.000000000",
          "2024-12-05T00:00:00.000000000",
          "2024-12-04T00:00:00.000000000",
          "2024-12-03T00:00:00.000000000",
          "2024-12-02T00:00:00.000000000",
          "2024-11-29T00:00:00.000000000",
          "2024-11-28T00:00:00.000000000",
          "2024-11-27T00:00:00.000000000",
          "2024-11-26T00:00:00.000000000",
          "2024-11-25T00:00:00.000000000",
          "2024-11-22T00:00:00.000000000",
          "2024-11-21T00:00:00.000000000",
          "2024-11-19T00:00:00.000000000",
          "2024-11-18T00:00:00.000000000",
          "2024-11-14T00:00:00.000000000",
          "2024-11-13T00:00:00.000000000",
          "2024-11-12T00:00:00.000000000",
          "2024-11-11T00:00:00.000000000",
          "2024-11-08T00:00:00.000000000",
          "2024-11-07T00:00:00.000000000",
          "2024-11-06T00:00:00.000000000",
          "2024-11-05T00:00:00.000000000",
          "2024-11-04T00:00:00.000000000",
          "2024-10-31T00:00:00.000000000",
          "2024-10-30T00:00:00.000000000",
          "2024-10-29T00:00:00.000000000",
          "2024-10-28T00:00:00.000000000",
          "2024-10-25T00:00:00.000000000",
          "2024-10-24T00:00:00.000000000",
          "2024-10-23T00:00:00.000000000",
          "2024-10-22T00:00:00.000000000",
          "2024-10-21T00:00:00.000000000",
          "2024-10-18T00:00:00.000000000",
          "2024-10-17T00:00:00.000000000"
         ]
        }
       ],
       "layout": {
        "height": 800,
        "template": {
         "data": {
          "bar": [
           {
            "error_x": {
             "color": "#2a3f5f"
            },
            "error_y": {
             "color": "#2a3f5f"
            },
            "marker": {
             "line": {
              "color": "#E5ECF6",
              "width": 0.5
             },
             "pattern": {
              "fillmode": "overlay",
              "size": 10,
              "solidity": 0.2
             }
            },
            "type": "bar"
           }
          ],
          "barpolar": [
           {
            "marker": {
             "line": {
              "color": "#E5ECF6",
              "width": 0.5
             },
             "pattern": {
              "fillmode": "overlay",
              "size": 10,
              "solidity": 0.2
             }
            },
            "type": "barpolar"
           }
          ],
          "carpet": [
           {
            "aaxis": {
             "endlinecolor": "#2a3f5f",
             "gridcolor": "white",
             "linecolor": "white",
             "minorgridcolor": "white",
             "startlinecolor": "#2a3f5f"
            },
            "baxis": {
             "endlinecolor": "#2a3f5f",
             "gridcolor": "white",
             "linecolor": "white",
             "minorgridcolor": "white",
             "startlinecolor": "#2a3f5f"
            },
            "type": "carpet"
           }
          ],
          "choropleth": [
           {
            "colorbar": {
             "outlinewidth": 0,
             "ticks": ""
            },
            "type": "choropleth"
           }
          ],
          "contour": [
           {
            "colorbar": {
             "outlinewidth": 0,
             "ticks": ""
            },
            "colorscale": [
             [
              0,
              "#0d0887"
             ],
             [
              0.1111111111111111,
              "#46039f"
             ],
             [
              0.2222222222222222,
              "#7201a8"
             ],
             [
              0.3333333333333333,
              "#9c179e"
             ],
             [
              0.4444444444444444,
              "#bd3786"
             ],
             [
              0.5555555555555556,
              "#d8576b"
             ],
             [
              0.6666666666666666,
              "#ed7953"
             ],
             [
              0.7777777777777778,
              "#fb9f3a"
             ],
             [
              0.8888888888888888,
              "#fdca26"
             ],
             [
              1,
              "#f0f921"
             ]
            ],
            "type": "contour"
           }
          ],
          "contourcarpet": [
           {
            "colorbar": {
             "outlinewidth": 0,
             "ticks": ""
            },
            "type": "contourcarpet"
           }
          ],
          "heatmap": [
           {
            "colorbar": {
             "outlinewidth": 0,
             "ticks": ""
            },
            "colorscale": [
             [
              0,
              "#0d0887"
             ],
             [
              0.1111111111111111,
              "#46039f"
             ],
             [
              0.2222222222222222,
              "#7201a8"
             ],
             [
              0.3333333333333333,
              "#9c179e"
             ],
             [
              0.4444444444444444,
              "#bd3786"
             ],
             [
              0.5555555555555556,
              "#d8576b"
             ],
             [
              0.6666666666666666,
              "#ed7953"
             ],
             [
              0.7777777777777778,
              "#fb9f3a"
             ],
             [
              0.8888888888888888,
              "#fdca26"
             ],
             [
              1,
              "#f0f921"
             ]
            ],
            "type": "heatmap"
           }
          ],
          "histogram": [
           {
            "marker": {
             "pattern": {
              "fillmode": "overlay",
              "size": 10,
              "solidity": 0.2
             }
            },
            "type": "histogram"
           }
          ],
          "histogram2d": [
           {
            "colorbar": {
             "outlinewidth": 0,
             "ticks": ""
            },
            "colorscale": [
             [
              0,
              "#0d0887"
             ],
             [
              0.1111111111111111,
              "#46039f"
             ],
             [
              0.2222222222222222,
              "#7201a8"
             ],
             [
              0.3333333333333333,
              "#9c179e"
             ],
             [
              0.4444444444444444,
              "#bd3786"
             ],
             [
              0.5555555555555556,
              "#d8576b"
             ],
             [
              0.6666666666666666,
              "#ed7953"
             ],
             [
              0.7777777777777778,
              "#fb9f3a"
             ],
             [
              0.8888888888888888,
              "#fdca26"
             ],
             [
              1,
              "#f0f921"
             ]
            ],
            "type": "histogram2d"
           }
          ],
          "histogram2dcontour": [
           {
            "colorbar": {
             "outlinewidth": 0,
             "ticks": ""
            },
            "colorscale": [
             [
              0,
              "#0d0887"
             ],
             [
              0.1111111111111111,
              "#46039f"
             ],
             [
              0.2222222222222222,
              "#7201a8"
             ],
             [
              0.3333333333333333,
              "#9c179e"
             ],
             [
              0.4444444444444444,
              "#bd3786"
             ],
             [
              0.5555555555555556,
              "#d8576b"
             ],
             [
              0.6666666666666666,
              "#ed7953"
             ],
             [
              0.7777777777777778,
              "#fb9f3a"
             ],
             [
              0.8888888888888888,
              "#fdca26"
             ],
             [
              1,
              "#f0f921"
             ]
            ],
            "type": "histogram2dcontour"
           }
          ],
          "mesh3d": [
           {
            "colorbar": {
             "outlinewidth": 0,
             "ticks": ""
            },
            "type": "mesh3d"
           }
          ],
          "parcoords": [
           {
            "line": {
             "colorbar": {
              "outlinewidth": 0,
              "ticks": ""
             }
            },
            "type": "parcoords"
           }
          ],
          "pie": [
           {
            "automargin": true,
            "type": "pie"
           }
          ],
          "scatter": [
           {
            "fillpattern": {
             "fillmode": "overlay",
             "size": 10,
             "solidity": 0.2
            },
            "type": "scatter"
           }
          ],
          "scatter3d": [
           {
            "line": {
             "colorbar": {
              "outlinewidth": 0,
              "ticks": ""
             }
            },
            "marker": {
             "colorbar": {
              "outlinewidth": 0,
              "ticks": ""
             }
            },
            "type": "scatter3d"
           }
          ],
          "scattercarpet": [
           {
            "marker": {
             "colorbar": {
              "outlinewidth": 0,
              "ticks": ""
             }
            },
            "type": "scattercarpet"
           }
          ],
          "scattergeo": [
           {
            "marker": {
             "colorbar": {
              "outlinewidth": 0,
              "ticks": ""
             }
            },
            "type": "scattergeo"
           }
          ],
          "scattergl": [
           {
            "marker": {
             "colorbar": {
              "outlinewidth": 0,
              "ticks": ""
             }
            },
            "type": "scattergl"
           }
          ],
          "scattermap": [
           {
            "marker": {
             "colorbar": {
              "outlinewidth": 0,
              "ticks": ""
             }
            },
            "type": "scattermap"
           }
          ],
          "scattermapbox": [
           {
            "marker": {
             "colorbar": {
              "outlinewidth": 0,
              "ticks": ""
             }
            },
            "type": "scattermapbox"
           }
          ],
          "scatterpolar": [
           {
            "marker": {
             "colorbar": {
              "outlinewidth": 0,
              "ticks": ""
             }
            },
            "type": "scatterpolar"
           }
          ],
          "scatterpolargl": [
           {
            "marker": {
             "colorbar": {
              "outlinewidth": 0,
              "ticks": ""
             }
            },
            "type": "scatterpolargl"
           }
          ],
          "scatterternary": [
           {
            "marker": {
             "colorbar": {
              "outlinewidth": 0,
              "ticks": ""
             }
            },
            "type": "scatterternary"
           }
          ],
          "surface": [
           {
            "colorbar": {
             "outlinewidth": 0,
             "ticks": ""
            },
            "colorscale": [
             [
              0,
              "#0d0887"
             ],
             [
              0.1111111111111111,
              "#46039f"
             ],
             [
              0.2222222222222222,
              "#7201a8"
             ],
             [
              0.3333333333333333,
              "#9c179e"
             ],
             [
              0.4444444444444444,
              "#bd3786"
             ],
             [
              0.5555555555555556,
              "#d8576b"
             ],
             [
              0.6666666666666666,
              "#ed7953"
             ],
             [
              0.7777777777777778,
              "#fb9f3a"
             ],
             [
              0.8888888888888888,
              "#fdca26"
             ],
             [
              1,
              "#f0f921"
             ]
            ],
            "type": "surface"
           }
          ],
          "table": [
           {
            "cells": {
             "fill": {
              "color": "#EBF0F8"
             },
             "line": {
              "color": "white"
             }
            },
            "header": {
             "fill": {
              "color": "#C8D4E3"
             },
             "line": {
              "color": "white"
             }
            },
            "type": "table"
           }
          ]
         },
         "layout": {
          "annotationdefaults": {
           "arrowcolor": "#2a3f5f",
           "arrowhead": 0,
           "arrowwidth": 1
          },
          "autotypenumbers": "strict",
          "coloraxis": {
           "colorbar": {
            "outlinewidth": 0,
            "ticks": ""
           }
          },
          "colorscale": {
           "diverging": [
            [
             0,
             "#8e0152"
            ],
            [
             0.1,
             "#c51b7d"
            ],
            [
             0.2,
             "#de77ae"
            ],
            [
             0.3,
             "#f1b6da"
            ],
            [
             0.4,
             "#fde0ef"
            ],
            [
             0.5,
             "#f7f7f7"
            ],
            [
             0.6,
             "#e6f5d0"
            ],
            [
             0.7,
             "#b8e186"
            ],
            [
             0.8,
             "#7fbc41"
            ],
            [
             0.9,
             "#4d9221"
            ],
            [
             1,
             "#276419"
            ]
           ],
           "sequential": [
            [
             0,
             "#0d0887"
            ],
            [
             0.1111111111111111,
             "#46039f"
            ],
            [
             0.2222222222222222,
             "#7201a8"
            ],
            [
             0.3333333333333333,
             "#9c179e"
            ],
            [
             0.4444444444444444,
             "#bd3786"
            ],
            [
             0.5555555555555556,
             "#d8576b"
            ],
            [
             0.6666666666666666,
             "#ed7953"
            ],
            [
             0.7777777777777778,
             "#fb9f3a"
            ],
            [
             0.8888888888888888,
             "#fdca26"
            ],
            [
             1,
             "#f0f921"
            ]
           ],
           "sequentialminus": [
            [
             0,
             "#0d0887"
            ],
            [
             0.1111111111111111,
             "#46039f"
            ],
            [
             0.2222222222222222,
             "#7201a8"
            ],
            [
             0.3333333333333333,
             "#9c179e"
            ],
            [
             0.4444444444444444,
             "#bd3786"
            ],
            [
             0.5555555555555556,
             "#d8576b"
            ],
            [
             0.6666666666666666,
             "#ed7953"
            ],
            [
             0.7777777777777778,
             "#fb9f3a"
            ],
            [
             0.8888888888888888,
             "#fdca26"
            ],
            [
             1,
             "#f0f921"
            ]
           ]
          },
          "colorway": [
           "#636efa",
           "#EF553B",
           "#00cc96",
           "#ab63fa",
           "#FFA15A",
           "#19d3f3",
           "#FF6692",
           "#B6E880",
           "#FF97FF",
           "#FECB52"
          ],
          "font": {
           "color": "#2a3f5f"
          },
          "geo": {
           "bgcolor": "white",
           "lakecolor": "white",
           "landcolor": "#E5ECF6",
           "showlakes": true,
           "showland": true,
           "subunitcolor": "white"
          },
          "hoverlabel": {
           "align": "left"
          },
          "hovermode": "closest",
          "mapbox": {
           "style": "light"
          },
          "paper_bgcolor": "white",
          "plot_bgcolor": "#E5ECF6",
          "polar": {
           "angularaxis": {
            "gridcolor": "white",
            "linecolor": "white",
            "ticks": ""
           },
           "bgcolor": "#E5ECF6",
           "radialaxis": {
            "gridcolor": "white",
            "linecolor": "white",
            "ticks": ""
           }
          },
          "scene": {
           "xaxis": {
            "backgroundcolor": "#E5ECF6",
            "gridcolor": "white",
            "gridwidth": 2,
            "linecolor": "white",
            "showbackground": true,
            "ticks": "",
            "zerolinecolor": "white"
           },
           "yaxis": {
            "backgroundcolor": "#E5ECF6",
            "gridcolor": "white",
            "gridwidth": 2,
            "linecolor": "white",
            "showbackground": true,
            "ticks": "",
            "zerolinecolor": "white"
           },
           "zaxis": {
            "backgroundcolor": "#E5ECF6",
            "gridcolor": "white",
            "gridwidth": 2,
            "linecolor": "white",
            "showbackground": true,
            "ticks": "",
            "zerolinecolor": "white"
           }
          },
          "shapedefaults": {
           "line": {
            "color": "#2a3f5f"
           }
          },
          "ternary": {
           "aaxis": {
            "gridcolor": "white",
            "linecolor": "white",
            "ticks": ""
           },
           "baxis": {
            "gridcolor": "white",
            "linecolor": "white",
            "ticks": ""
           },
           "bgcolor": "#E5ECF6",
           "caxis": {
            "gridcolor": "white",
            "linecolor": "white",
            "ticks": ""
           }
          },
          "title": {
           "x": 0.05
          },
          "xaxis": {
           "automargin": true,
           "gridcolor": "white",
           "linecolor": "white",
           "ticks": "",
           "title": {
            "standoff": 15
           },
           "zerolinecolor": "white",
           "zerolinewidth": 2
          },
          "yaxis": {
           "automargin": true,
           "gridcolor": "white",
           "linecolor": "white",
           "ticks": "",
           "title": {
            "standoff": 15
           },
           "zerolinecolor": "white",
           "zerolinewidth": 2
          }
         }
        },
        "width": 1200
       }
      }
     },
     "metadata": {},
     "output_type": "display_data"
    }
   ],
   "source": [
    "fig = go.Figure(data = [\n",
    "    go.Candlestick(\n",
    "        x = df.index,\n",
    "        open= df[\"1. open\"],\n",
    "        high= df[\"2. high\"],\n",
    "        low = df[\"3. low\"],\n",
    "        close= df[\"4. close\"]\n",
    "    )\n",
    "])\n",
    "\n",
    "fig.update_layout(width = 1200, height = 800)\n",
    "\n",
    "fig.show()"
   ]
  },
  {
   "cell_type": "code",
   "execution_count": 26,
   "metadata": {},
   "outputs": [
    {
     "data": {
      "text/plain": [
       "plotly.graph_objs._figure.Figure"
      ]
     },
     "execution_count": 26,
     "metadata": {},
     "output_type": "execute_result"
    }
   ],
   "source": [
    "type(fig)"
   ]
  },
  {
   "cell_type": "markdown",
   "metadata": {},
   "source": [
    "### Create a class to get data for any stock"
   ]
  },
  {
   "cell_type": "code",
   "execution_count": 27,
   "metadata": {},
   "outputs": [],
   "source": [
    "from dotenv import load_dotenv\n",
    "import os\n",
    "import pandas as pd\n",
    "import requests\n",
    "import plotly.graph_objects as go"
   ]
  },
  {
   "cell_type": "code",
   "execution_count": 28,
   "metadata": {},
   "outputs": [],
   "source": [
    "class StockAPI:\n",
    "\n",
    "    def __init__(self):\n",
    "        # Load the api key\n",
    "        load_dotenv()\n",
    "        self.api_key = os.getenv(\"API_KEY\")\n",
    "        # Get the url\n",
    "        self.url = \"https://alpha-vantage.p.rapidapi.com/query\"\n",
    "        # Show the headers\n",
    "        self.headers = {\n",
    "            \"x-rapidapi-key\": self.api_key,\n",
    "            \"x-rapidapi-host\": \"alpha-vantage.p.rapidapi.com\",\n",
    "        }\n",
    "\n",
    "    def symbol_search(self, company: str) -> dict:\n",
    "        querystring = {\n",
    "            \"datatype\": \"json\",\n",
    "            \"keywords\": company,\n",
    "            \"function\": \"SYMBOL_SEARCH\",\n",
    "        }\n",
    "        response = requests.get(self.url, headers=self.headers, params=querystring)\n",
    "        data = response.json()[\"bestMatches\"]\n",
    "        symbols = {}\n",
    "        for i in data:\n",
    "            s = i[\"1. symbol\"]\n",
    "            symbols[s] = [i[\"2. name\"], i[\"4. region\"], i[\"8. currency\"]]\n",
    "        # Return the symbols dictionary\n",
    "        return symbols\n",
    "    def get_daily_data(self, symbol: str) -> pd.DataFrame:\n",
    "        querystring = {\n",
    "            \"function\": \"TIME_SERIES_DAILY\",\n",
    "            \"symbol\": symbol,\n",
    "            \"outputsize\": \"compact\",\n",
    "            \"datatype\": \"json\",\n",
    "        }\n",
    "        response = requests.get(self.url, headers= self.headers, params=querystring)\n",
    "        data = response.json()[\"Time Series (Daily)\"]\n",
    "        # Convert into dataframe\n",
    "        df = pd.DataFrame(data).T\n",
    "        # Convert datatypes to float\n",
    "        df = df.astype(float)\n",
    "        # Convert index to datetime\n",
    "        df.index = pd.to_datetime(df.index)\n",
    "        # Provide a name to index\n",
    "        df.index.name = \"Date\"\n",
    "        return df\n",
    "    \n",
    "    def candlestick_chart(self, df: pd.DataFrame) -> go.Figure:\n",
    "        fig = go.Figure(data = [\n",
    "            go.Candlestick(\n",
    "                x = df.index,\n",
    "                open= df[\"1. open\"],\n",
    "                high= df[\"2. high\"],\n",
    "                low = df[\"3. low\"],\n",
    "                close= df[\"4. close\"]\n",
    "            )\n",
    "        ])\n",
    "        fig.update_layout(width = 1200, height = 800)\n",
    "        return fig"
   ]
  },
  {
   "cell_type": "markdown",
   "metadata": {},
   "source": [
    "#### Get the details for Tesla company stock"
   ]
  },
  {
   "cell_type": "code",
   "execution_count": 29,
   "metadata": {},
   "outputs": [],
   "source": [
    "client = StockAPI()"
   ]
  },
  {
   "cell_type": "code",
   "execution_count": 30,
   "metadata": {},
   "outputs": [
    {
     "data": {
      "text/plain": [
       "{'TSLA': ['Tesla Inc', 'United States', 'USD'],\n",
       " 'TL0.DEX': ['Tesla Inc', 'XETRA', 'EUR'],\n",
       " 'TL0.FRK': ['Tesla Inc', 'Frankfurt', 'EUR'],\n",
       " 'TSLA34.SAO': ['Tesla Inc', 'Brazil/Sao Paolo', 'BRL'],\n",
       " 'TSLA.TRT': ['Tesla CDR (CAD Hedged)', 'Toronto', 'CAD'],\n",
       " 'TL01.FRK': ['TESLA INC. CDR DL-001', 'Frankfurt', 'EUR']}"
      ]
     },
     "execution_count": 30,
     "metadata": {},
     "output_type": "execute_result"
    }
   ],
   "source": [
    "client.symbol_search(\"Tesla\")"
   ]
  },
  {
   "cell_type": "code",
   "execution_count": 31,
   "metadata": {},
   "outputs": [
    {
     "data": {
      "text/html": [
       "<div>\n",
       "<style scoped>\n",
       "    .dataframe tbody tr th:only-of-type {\n",
       "        vertical-align: middle;\n",
       "    }\n",
       "\n",
       "    .dataframe tbody tr th {\n",
       "        vertical-align: top;\n",
       "    }\n",
       "\n",
       "    .dataframe thead th {\n",
       "        text-align: right;\n",
       "    }\n",
       "</style>\n",
       "<table border=\"1\" class=\"dataframe\">\n",
       "  <thead>\n",
       "    <tr style=\"text-align: right;\">\n",
       "      <th></th>\n",
       "      <th>1. open</th>\n",
       "      <th>2. high</th>\n",
       "      <th>3. low</th>\n",
       "      <th>4. close</th>\n",
       "      <th>5. volume</th>\n",
       "    </tr>\n",
       "    <tr>\n",
       "      <th>Date</th>\n",
       "      <th></th>\n",
       "      <th></th>\n",
       "      <th></th>\n",
       "      <th></th>\n",
       "      <th></th>\n",
       "    </tr>\n",
       "  </thead>\n",
       "  <tbody>\n",
       "    <tr>\n",
       "      <th>2025-03-12</th>\n",
       "      <td>247.220</td>\n",
       "      <td>251.8400</td>\n",
       "      <td>241.100</td>\n",
       "      <td>248.09</td>\n",
       "      <td>142215681.0</td>\n",
       "    </tr>\n",
       "    <tr>\n",
       "      <th>2025-03-11</th>\n",
       "      <td>225.305</td>\n",
       "      <td>237.0649</td>\n",
       "      <td>217.020</td>\n",
       "      <td>230.58</td>\n",
       "      <td>174896415.0</td>\n",
       "    </tr>\n",
       "    <tr>\n",
       "      <th>2025-03-10</th>\n",
       "      <td>252.540</td>\n",
       "      <td>253.3700</td>\n",
       "      <td>220.000</td>\n",
       "      <td>222.15</td>\n",
       "      <td>185037825.0</td>\n",
       "    </tr>\n",
       "    <tr>\n",
       "      <th>2025-03-07</th>\n",
       "      <td>259.320</td>\n",
       "      <td>266.2499</td>\n",
       "      <td>250.730</td>\n",
       "      <td>262.67</td>\n",
       "      <td>102369640.0</td>\n",
       "    </tr>\n",
       "    <tr>\n",
       "      <th>2025-03-06</th>\n",
       "      <td>272.060</td>\n",
       "      <td>272.6500</td>\n",
       "      <td>260.020</td>\n",
       "      <td>263.45</td>\n",
       "      <td>98451566.0</td>\n",
       "    </tr>\n",
       "    <tr>\n",
       "      <th>...</th>\n",
       "      <td>...</td>\n",
       "      <td>...</td>\n",
       "      <td>...</td>\n",
       "      <td>...</td>\n",
       "      <td>...</td>\n",
       "    </tr>\n",
       "    <tr>\n",
       "      <th>2024-10-22</th>\n",
       "      <td>217.310</td>\n",
       "      <td>218.2200</td>\n",
       "      <td>215.260</td>\n",
       "      <td>217.97</td>\n",
       "      <td>43268741.0</td>\n",
       "    </tr>\n",
       "    <tr>\n",
       "      <th>2024-10-21</th>\n",
       "      <td>218.900</td>\n",
       "      <td>220.4800</td>\n",
       "      <td>215.726</td>\n",
       "      <td>218.85</td>\n",
       "      <td>47328988.0</td>\n",
       "    </tr>\n",
       "    <tr>\n",
       "      <th>2024-10-18</th>\n",
       "      <td>220.710</td>\n",
       "      <td>222.2800</td>\n",
       "      <td>219.230</td>\n",
       "      <td>220.70</td>\n",
       "      <td>49611867.0</td>\n",
       "    </tr>\n",
       "    <tr>\n",
       "      <th>2024-10-17</th>\n",
       "      <td>221.590</td>\n",
       "      <td>222.0800</td>\n",
       "      <td>217.900</td>\n",
       "      <td>220.89</td>\n",
       "      <td>50791784.0</td>\n",
       "    </tr>\n",
       "    <tr>\n",
       "      <th>2024-10-16</th>\n",
       "      <td>221.400</td>\n",
       "      <td>222.8199</td>\n",
       "      <td>218.930</td>\n",
       "      <td>221.33</td>\n",
       "      <td>49632824.0</td>\n",
       "    </tr>\n",
       "  </tbody>\n",
       "</table>\n",
       "<p>100 rows × 5 columns</p>\n",
       "</div>"
      ],
      "text/plain": [
       "            1. open   2. high   3. low  4. close    5. volume\n",
       "Date                                                         \n",
       "2025-03-12  247.220  251.8400  241.100    248.09  142215681.0\n",
       "2025-03-11  225.305  237.0649  217.020    230.58  174896415.0\n",
       "2025-03-10  252.540  253.3700  220.000    222.15  185037825.0\n",
       "2025-03-07  259.320  266.2499  250.730    262.67  102369640.0\n",
       "2025-03-06  272.060  272.6500  260.020    263.45   98451566.0\n",
       "...             ...       ...      ...       ...          ...\n",
       "2024-10-22  217.310  218.2200  215.260    217.97   43268741.0\n",
       "2024-10-21  218.900  220.4800  215.726    218.85   47328988.0\n",
       "2024-10-18  220.710  222.2800  219.230    220.70   49611867.0\n",
       "2024-10-17  221.590  222.0800  217.900    220.89   50791784.0\n",
       "2024-10-16  221.400  222.8199  218.930    221.33   49632824.0\n",
       "\n",
       "[100 rows x 5 columns]"
      ]
     },
     "execution_count": 31,
     "metadata": {},
     "output_type": "execute_result"
    }
   ],
   "source": [
    "df2 = client.get_daily_data(\"TSLA\")\n",
    "df2"
   ]
  },
  {
   "cell_type": "code",
   "execution_count": 32,
   "metadata": {},
   "outputs": [],
   "source": [
    "df2.to_csv(\"Tesla.csv\")"
   ]
  },
  {
   "cell_type": "code",
   "execution_count": 33,
   "metadata": {},
   "outputs": [
    {
     "data": {
      "application/vnd.plotly.v1+json": {
       "config": {
        "plotlyServerURL": "https://plot.ly"
       },
       "data": [
        {
         "close": {
          "bdata": "exSuR+ECb0DD9Shcj9JsQM3MzMzMxGtAH4XrUbhqcEAzMzMzM3dwQJqZmZmZcXFAcT0K16MAcUBmZmZmZspxQEjhehSuT3JAMzMzMzOfcUDNzMzMzCxyQM3MzMzM7HJAFK5H4XqodEDNzMzMzBx1QGZmZmZmJnZAKVyPwvWIdkD2KFyPwiF2QD0K16NwPXZA16NwPQo/dkBcj8L1KAh1QAAAAAAAiHRASOF6FK7rdUBSuB6F65l2QIXrUbgeZXdAH4XrUbiid0CPwvUoXIN4QHsUrkfh+ndAmpmZmZlJeUAUrkfhegR5QJqZmZmZUXhAPQrXo3DheEBmZmZmZtJ4QOF6FK5HaXlArkfhehTGeUD2KFyPwvF5QIXrUbgegXpAAAAAAACoekCF61G4Ht15QOxRuB6Fw3pA9ihcj8LFeEApXI/C9TR5QKRwPQrXq3hA16NwPQqveED2KFyPwqV4QM3MzMzMsHlA16NwPQqneUAUrkfherR3QD0K16NwPXlAw/UoXI8WekDD9Shcj/p6QK5H4XoUYnxAFK5H4XrkfECamZmZmel6QClcj8L1UHpAH4XrUbhCe0CuR+F6FIJ7QPYoXI/C/X1AuB6F61HwfEBI4XoUrkN7QJqZmZmZIXpAuB6F61GMekCkcD0K1w95QHE9CtejXHhA7FG4HoVTeECkcD0K1xd3QHsUrkfhXnZAH4XrUbj2dUA9CtejcFF2QMP1KFyPknVACtejcD3OdEBI4XoUriN1QD0K16NwKXVAKVyPwvUIdkAK16NwPTp1QBSuR+F6YHVAAAAAAACgdUCkcD0K1yt1QOxRuB6FC3RAexSuR+Fyc0CkcD0K16N0QKRwPQrXh3RAAAAAAADgdUDsUbgehRN0QMP1KFyPjnJAFK5H4XoIckCuR+F6FG5vQHsUrkfhWm5Aj8L1KFwfb0AzMzMzMztvQM3MzMzMGHBAuB6F61E4cEBcj8L1KGhwQNejcD0K03BASOF6FK5HcEDNzMzMzLRqQNejcD0KP2tAMzMzMzNba0BmZmZmZpZrQBSuR+F6nGtAw/UoXI+qa0A=",
          "dtype": "f8"
         },
         "high": {
          "bdata": "exSuR+F6b0BVMCqpE6JtQKRwPQrXq29AVHQkl/+jcEBmZmZmZgpxQM3MzMzMeHFAmpmZmZnFcUDXo3A9Cv9yQK5H4XoUXnJASOF6FK6TckAAAAAAAFBzQArXo3A9jnRANqs+V1tmdUBI4XoUri92QM3MzMzMpHZAPQrXo3D1dkCamZmZmXF2QAAAAAAAoHZA16NwPQprdkBmZmZmZqZ1QFK4HoXr1XVAMzMzMzOrdkAvbqMBvMh3QGZmZmZmdndACtejcD1GeEAAAAAAAKB4QB+F61G4UnhApHA9Ctc/ekAAAAAAAMh5QJF++zpw6XhAPQrXo3AJeUDXo3A9Cmt5QK5H4XoULnpASOF6FK5LekAAAAAAAMB6QDMzMzMzE3tApHA9Ctd7e0AAAAAAAIB6QM3MzMzM3HpACtejcD1qekBxPQrXozx5QBSuR+F69HhAVHQkl/8neUDhehSuR+V5QHsUrkfhpnpAArwFEhS+eUCbVZ+rrYt4QHsUrkfhvnpAAAAAAACwekAAAAAAACB8QDXvOEVHFX1AFK5H4XrsfEBcj8L1KCh7QOF6FK5H8XtA9ihcj8KFfEDEsS5uo4h+QKRwPQrXP35A16NwPQrzfEDNzMzMzER7QM3MzMzM1HpArkfhehSOekBI4XoUrpt5QM3MzMzMTHlApHA9CtdXeEB7FK5H4XZ3QJqZmZmZYXZA16NwPQo7dkAAAAAAAIB2QDMzMzMzl3VAzczMzMxodUCPwvUoXK91QHsUrkfhnnZAFK5H4XqYdkD35GGh1r91QO0NvjCZqXVAArwFEhS2dUAgQfFjzMh1QM6I0t7gSnRASOF6FK6fdEDtDb4wmYl1QD0K16NwnXVACtejcD1qdkCPwvUoXIt0QAAAAAAAvHJAPQrXo3AZckDQRNjw9OhvQM3MzMzMHG9AAAAAAADAb0AAAAAAADxwQJqZmZmZdXBASOF6FK6PcEB/arx0kxhxQKRwPQrX13BApSxDHOthcEDXo3A9CldrQNejcD0KR2tAj8L1KFyPa0ApXI/C9chrQMP1KFyPwmtAsb/snjzaa0A=",
          "dtype": "f8"
         },
         "low": {
          "bdata": "MzMzMzMjbkBxPQrXoyBrQAAAAAAAgGtAj8L1KFxXb0C4HoXrUUBwQI/C9Shcu3BA6pWyDHFdcEDNzMzMzFRxQJqZmZmZGXFArkfhehSOcUBxPQrXowByQBWMSuoElHJAMzMzMzNLdEAfhetRuOZ0QAAAAAAAwHVAH4XrUbgadkC4HoXrUeB1QAAAAAAAuHVAmpmZmZltdUBSuB6F65F0QJqZmZmZUXRAXI/C9SjodUA9CtejcIV2QHsUrkfhsnZAFK5H4Xp4d0BmZmZmZtZ3QPYoXI/CZXdAPQrXo3AVeUDD9ShcjwZ4QEjhehSuB3hAAAAAAAAoeEAAAAAAAFB4QBSuR+F6XHlAMzMzMzOPeUA9CtejcOl5QClcj8L1ZHlAAAAAAAA8ekCuR+F6FJJ5QH9qvHSTWnlAcT0K16OoeECF61G4HsF3QHE9CtejlHdAZmZmZmY2eEAAAAAAAGB4QDMzMzMzG3lAMzMzMzO3d0BxPQrXo1B3QHE9CtejKHlAAAAAAAD8eUAAAAAAAKh6QLgehetRMHxACtejcD0ye0DYgXNGlPZ5QArXo3A9GnpAuB6F61FAekBcj8L1KLB6QAkbnl4pmHxAZmZmZmZCe0CPwvUoXPt5QAAAAAAA8HlArkfhehQmeUCamZmZmW14QFyPwvUooHdAzczMzMwsd0AAAAAAAHh2QJqZmZmZyXVAMzMzMzPDdUAT8kHPZvJ1QGZmZmZm6nRAPQrXo3BpdEDD9Shcj/p0QDMzMzMzI3VAMzMzMzMbdUAUrkfhevR0QM3MzMzM5HRAAAAAAADMdEBcj8L1KKB0QOxRuB6FU3NAUrgehetlc0AAAAAAACh0QClcj8L1NHRAAAAAAAAAdUDD9Shcj5pyQLgehetR2HFAUrgehes5cUB4nKIjucZuQFyPwvUo3G1AXI/C9SjUbkAAAAAAAChvQGPuWkI++m9AuB6F61Hwb0CkcD0K12NwQArXo3A96m9AzczMzMxUbkDsUbgehYNqQLgehetR6GpArBxaZDv3akCPwvUoXGdrQM3MzMzMPGtA9ihcj8Jda0A=",
          "dtype": "f8"
         },
         "open": {
          "bdata": "16NwPQrnbkD2KFyPwilsQOF6FK5HkW9AhetRuB41cEApXI/C9QBxQB+F61G4DnFAexSuR+HucEA9CtejcMVyQAAAAAAAeHFAw/UoXI8yckA9CtejcPtyQGZmZmZmcHRACtejcD0idUDXo3A9Chd2QFyPwvUomHZAAAAAAAAgdkBcj8L1KDB2QFK4HoXriXZAAAAAAACQdUDXo3A9Cp90QM3MzMzMnHVAj8L1KFxDdkDXo3A9CiN3QBSuR+F6UHdAXI/C9Sg4eECuR+F6FOp3QHsUrkfhKnhAFK5H4XoYeUAUrkfheqx5QI/C9Shcs3hAw/UoXI/OeEDNzMzMzKx4QDMzMzMz53lAKVyPwvUAekApXI/C9Qx6QArXo3A9CntAAAAAAABYekCkcD0K13d6QGZmZmZmnnlAPQrXo3DleUCPwvUoXPN3QGZmZmZmdnhAMzMzMzOPeEDhehSuR115QDMzMzMzc3pASOF6FK7Xd0CamZmZmWF4QHE9CtejfHpAZmZmZmY2ekC4HoXrURh8QMP1KFyPEn1AZmZmZmY+e0AAAAAAAPB6QK5H4XoUmHpArkfhehQ+fEBSuB6F6yd9QGZmZmZmvn1APQrXo3CRe0AAAAAAAEB6QD0K16NwjXpAMzMzMzObeUB7FK5H4Yp4QPYoXI/C2XhAH4XrUbiWd0BSuB6F6312QAAAAAAAEHZAzczMzMz8dUCuR+F6FAZ2QOF6FK5HAXVAzczMzMxcdUAAAAAAAFB1QArXo3A9gnZAj8L1KFxRdUApXI/C9Xx1QAAAAAAAkHVAXI/C9Sj8dEBI4XoUrkt1QIXrUbgeaXNA16NwPQp7dECamZmZmf10QKRwPQrXa3VAzczMzMykdUAK16NwPbJyQArXo3A9DnJAH4XrUbjKcUB7FK5H4epuQFK4HoXrkW5ATDeJQWCBb0CkcD0K1x9wQMP1KFyPIHBAXI/C9SiIcEAAAAAAAOBwQFyPwvUoAHBA9ihcj8KVbkAAAAAAACRrQFK4HoXrKWtAzczMzMxca0AfhetRuJZrQHsUrkfhsmtAzczMzMysa0A=",
          "dtype": "f8"
         },
         "type": "candlestick",
         "x": [
          "2025-03-12T00:00:00.000000000",
          "2025-03-11T00:00:00.000000000",
          "2025-03-10T00:00:00.000000000",
          "2025-03-07T00:00:00.000000000",
          "2025-03-06T00:00:00.000000000",
          "2025-03-05T00:00:00.000000000",
          "2025-03-04T00:00:00.000000000",
          "2025-03-03T00:00:00.000000000",
          "2025-02-28T00:00:00.000000000",
          "2025-02-27T00:00:00.000000000",
          "2025-02-26T00:00:00.000000000",
          "2025-02-25T00:00:00.000000000",
          "2025-02-24T00:00:00.000000000",
          "2025-02-21T00:00:00.000000000",
          "2025-02-20T00:00:00.000000000",
          "2025-02-19T00:00:00.000000000",
          "2025-02-18T00:00:00.000000000",
          "2025-02-14T00:00:00.000000000",
          "2025-02-13T00:00:00.000000000",
          "2025-02-12T00:00:00.000000000",
          "2025-02-11T00:00:00.000000000",
          "2025-02-10T00:00:00.000000000",
          "2025-02-07T00:00:00.000000000",
          "2025-02-06T00:00:00.000000000",
          "2025-02-05T00:00:00.000000000",
          "2025-02-04T00:00:00.000000000",
          "2025-02-03T00:00:00.000000000",
          "2025-01-31T00:00:00.000000000",
          "2025-01-30T00:00:00.000000000",
          "2025-01-29T00:00:00.000000000",
          "2025-01-28T00:00:00.000000000",
          "2025-01-27T00:00:00.000000000",
          "2025-01-24T00:00:00.000000000",
          "2025-01-23T00:00:00.000000000",
          "2025-01-22T00:00:00.000000000",
          "2025-01-21T00:00:00.000000000",
          "2025-01-17T00:00:00.000000000",
          "2025-01-16T00:00:00.000000000",
          "2025-01-15T00:00:00.000000000",
          "2025-01-14T00:00:00.000000000",
          "2025-01-13T00:00:00.000000000",
          "2025-01-10T00:00:00.000000000",
          "2025-01-08T00:00:00.000000000",
          "2025-01-07T00:00:00.000000000",
          "2025-01-06T00:00:00.000000000",
          "2025-01-03T00:00:00.000000000",
          "2025-01-02T00:00:00.000000000",
          "2024-12-31T00:00:00.000000000",
          "2024-12-30T00:00:00.000000000",
          "2024-12-27T00:00:00.000000000",
          "2024-12-26T00:00:00.000000000",
          "2024-12-24T00:00:00.000000000",
          "2024-12-23T00:00:00.000000000",
          "2024-12-20T00:00:00.000000000",
          "2024-12-19T00:00:00.000000000",
          "2024-12-18T00:00:00.000000000",
          "2024-12-17T00:00:00.000000000",
          "2024-12-16T00:00:00.000000000",
          "2024-12-13T00:00:00.000000000",
          "2024-12-12T00:00:00.000000000",
          "2024-12-11T00:00:00.000000000",
          "2024-12-10T00:00:00.000000000",
          "2024-12-09T00:00:00.000000000",
          "2024-12-06T00:00:00.000000000",
          "2024-12-05T00:00:00.000000000",
          "2024-12-04T00:00:00.000000000",
          "2024-12-03T00:00:00.000000000",
          "2024-12-02T00:00:00.000000000",
          "2024-11-29T00:00:00.000000000",
          "2024-11-27T00:00:00.000000000",
          "2024-11-26T00:00:00.000000000",
          "2024-11-25T00:00:00.000000000",
          "2024-11-22T00:00:00.000000000",
          "2024-11-21T00:00:00.000000000",
          "2024-11-20T00:00:00.000000000",
          "2024-11-19T00:00:00.000000000",
          "2024-11-18T00:00:00.000000000",
          "2024-11-15T00:00:00.000000000",
          "2024-11-14T00:00:00.000000000",
          "2024-11-13T00:00:00.000000000",
          "2024-11-12T00:00:00.000000000",
          "2024-11-11T00:00:00.000000000",
          "2024-11-08T00:00:00.000000000",
          "2024-11-07T00:00:00.000000000",
          "2024-11-06T00:00:00.000000000",
          "2024-11-05T00:00:00.000000000",
          "2024-11-04T00:00:00.000000000",
          "2024-11-01T00:00:00.000000000",
          "2024-10-31T00:00:00.000000000",
          "2024-10-30T00:00:00.000000000",
          "2024-10-29T00:00:00.000000000",
          "2024-10-28T00:00:00.000000000",
          "2024-10-25T00:00:00.000000000",
          "2024-10-24T00:00:00.000000000",
          "2024-10-23T00:00:00.000000000",
          "2024-10-22T00:00:00.000000000",
          "2024-10-21T00:00:00.000000000",
          "2024-10-18T00:00:00.000000000",
          "2024-10-17T00:00:00.000000000",
          "2024-10-16T00:00:00.000000000"
         ]
        }
       ],
       "layout": {
        "height": 800,
        "template": {
         "data": {
          "bar": [
           {
            "error_x": {
             "color": "#2a3f5f"
            },
            "error_y": {
             "color": "#2a3f5f"
            },
            "marker": {
             "line": {
              "color": "#E5ECF6",
              "width": 0.5
             },
             "pattern": {
              "fillmode": "overlay",
              "size": 10,
              "solidity": 0.2
             }
            },
            "type": "bar"
           }
          ],
          "barpolar": [
           {
            "marker": {
             "line": {
              "color": "#E5ECF6",
              "width": 0.5
             },
             "pattern": {
              "fillmode": "overlay",
              "size": 10,
              "solidity": 0.2
             }
            },
            "type": "barpolar"
           }
          ],
          "carpet": [
           {
            "aaxis": {
             "endlinecolor": "#2a3f5f",
             "gridcolor": "white",
             "linecolor": "white",
             "minorgridcolor": "white",
             "startlinecolor": "#2a3f5f"
            },
            "baxis": {
             "endlinecolor": "#2a3f5f",
             "gridcolor": "white",
             "linecolor": "white",
             "minorgridcolor": "white",
             "startlinecolor": "#2a3f5f"
            },
            "type": "carpet"
           }
          ],
          "choropleth": [
           {
            "colorbar": {
             "outlinewidth": 0,
             "ticks": ""
            },
            "type": "choropleth"
           }
          ],
          "contour": [
           {
            "colorbar": {
             "outlinewidth": 0,
             "ticks": ""
            },
            "colorscale": [
             [
              0,
              "#0d0887"
             ],
             [
              0.1111111111111111,
              "#46039f"
             ],
             [
              0.2222222222222222,
              "#7201a8"
             ],
             [
              0.3333333333333333,
              "#9c179e"
             ],
             [
              0.4444444444444444,
              "#bd3786"
             ],
             [
              0.5555555555555556,
              "#d8576b"
             ],
             [
              0.6666666666666666,
              "#ed7953"
             ],
             [
              0.7777777777777778,
              "#fb9f3a"
             ],
             [
              0.8888888888888888,
              "#fdca26"
             ],
             [
              1,
              "#f0f921"
             ]
            ],
            "type": "contour"
           }
          ],
          "contourcarpet": [
           {
            "colorbar": {
             "outlinewidth": 0,
             "ticks": ""
            },
            "type": "contourcarpet"
           }
          ],
          "heatmap": [
           {
            "colorbar": {
             "outlinewidth": 0,
             "ticks": ""
            },
            "colorscale": [
             [
              0,
              "#0d0887"
             ],
             [
              0.1111111111111111,
              "#46039f"
             ],
             [
              0.2222222222222222,
              "#7201a8"
             ],
             [
              0.3333333333333333,
              "#9c179e"
             ],
             [
              0.4444444444444444,
              "#bd3786"
             ],
             [
              0.5555555555555556,
              "#d8576b"
             ],
             [
              0.6666666666666666,
              "#ed7953"
             ],
             [
              0.7777777777777778,
              "#fb9f3a"
             ],
             [
              0.8888888888888888,
              "#fdca26"
             ],
             [
              1,
              "#f0f921"
             ]
            ],
            "type": "heatmap"
           }
          ],
          "histogram": [
           {
            "marker": {
             "pattern": {
              "fillmode": "overlay",
              "size": 10,
              "solidity": 0.2
             }
            },
            "type": "histogram"
           }
          ],
          "histogram2d": [
           {
            "colorbar": {
             "outlinewidth": 0,
             "ticks": ""
            },
            "colorscale": [
             [
              0,
              "#0d0887"
             ],
             [
              0.1111111111111111,
              "#46039f"
             ],
             [
              0.2222222222222222,
              "#7201a8"
             ],
             [
              0.3333333333333333,
              "#9c179e"
             ],
             [
              0.4444444444444444,
              "#bd3786"
             ],
             [
              0.5555555555555556,
              "#d8576b"
             ],
             [
              0.6666666666666666,
              "#ed7953"
             ],
             [
              0.7777777777777778,
              "#fb9f3a"
             ],
             [
              0.8888888888888888,
              "#fdca26"
             ],
             [
              1,
              "#f0f921"
             ]
            ],
            "type": "histogram2d"
           }
          ],
          "histogram2dcontour": [
           {
            "colorbar": {
             "outlinewidth": 0,
             "ticks": ""
            },
            "colorscale": [
             [
              0,
              "#0d0887"
             ],
             [
              0.1111111111111111,
              "#46039f"
             ],
             [
              0.2222222222222222,
              "#7201a8"
             ],
             [
              0.3333333333333333,
              "#9c179e"
             ],
             [
              0.4444444444444444,
              "#bd3786"
             ],
             [
              0.5555555555555556,
              "#d8576b"
             ],
             [
              0.6666666666666666,
              "#ed7953"
             ],
             [
              0.7777777777777778,
              "#fb9f3a"
             ],
             [
              0.8888888888888888,
              "#fdca26"
             ],
             [
              1,
              "#f0f921"
             ]
            ],
            "type": "histogram2dcontour"
           }
          ],
          "mesh3d": [
           {
            "colorbar": {
             "outlinewidth": 0,
             "ticks": ""
            },
            "type": "mesh3d"
           }
          ],
          "parcoords": [
           {
            "line": {
             "colorbar": {
              "outlinewidth": 0,
              "ticks": ""
             }
            },
            "type": "parcoords"
           }
          ],
          "pie": [
           {
            "automargin": true,
            "type": "pie"
           }
          ],
          "scatter": [
           {
            "fillpattern": {
             "fillmode": "overlay",
             "size": 10,
             "solidity": 0.2
            },
            "type": "scatter"
           }
          ],
          "scatter3d": [
           {
            "line": {
             "colorbar": {
              "outlinewidth": 0,
              "ticks": ""
             }
            },
            "marker": {
             "colorbar": {
              "outlinewidth": 0,
              "ticks": ""
             }
            },
            "type": "scatter3d"
           }
          ],
          "scattercarpet": [
           {
            "marker": {
             "colorbar": {
              "outlinewidth": 0,
              "ticks": ""
             }
            },
            "type": "scattercarpet"
           }
          ],
          "scattergeo": [
           {
            "marker": {
             "colorbar": {
              "outlinewidth": 0,
              "ticks": ""
             }
            },
            "type": "scattergeo"
           }
          ],
          "scattergl": [
           {
            "marker": {
             "colorbar": {
              "outlinewidth": 0,
              "ticks": ""
             }
            },
            "type": "scattergl"
           }
          ],
          "scattermap": [
           {
            "marker": {
             "colorbar": {
              "outlinewidth": 0,
              "ticks": ""
             }
            },
            "type": "scattermap"
           }
          ],
          "scattermapbox": [
           {
            "marker": {
             "colorbar": {
              "outlinewidth": 0,
              "ticks": ""
             }
            },
            "type": "scattermapbox"
           }
          ],
          "scatterpolar": [
           {
            "marker": {
             "colorbar": {
              "outlinewidth": 0,
              "ticks": ""
             }
            },
            "type": "scatterpolar"
           }
          ],
          "scatterpolargl": [
           {
            "marker": {
             "colorbar": {
              "outlinewidth": 0,
              "ticks": ""
             }
            },
            "type": "scatterpolargl"
           }
          ],
          "scatterternary": [
           {
            "marker": {
             "colorbar": {
              "outlinewidth": 0,
              "ticks": ""
             }
            },
            "type": "scatterternary"
           }
          ],
          "surface": [
           {
            "colorbar": {
             "outlinewidth": 0,
             "ticks": ""
            },
            "colorscale": [
             [
              0,
              "#0d0887"
             ],
             [
              0.1111111111111111,
              "#46039f"
             ],
             [
              0.2222222222222222,
              "#7201a8"
             ],
             [
              0.3333333333333333,
              "#9c179e"
             ],
             [
              0.4444444444444444,
              "#bd3786"
             ],
             [
              0.5555555555555556,
              "#d8576b"
             ],
             [
              0.6666666666666666,
              "#ed7953"
             ],
             [
              0.7777777777777778,
              "#fb9f3a"
             ],
             [
              0.8888888888888888,
              "#fdca26"
             ],
             [
              1,
              "#f0f921"
             ]
            ],
            "type": "surface"
           }
          ],
          "table": [
           {
            "cells": {
             "fill": {
              "color": "#EBF0F8"
             },
             "line": {
              "color": "white"
             }
            },
            "header": {
             "fill": {
              "color": "#C8D4E3"
             },
             "line": {
              "color": "white"
             }
            },
            "type": "table"
           }
          ]
         },
         "layout": {
          "annotationdefaults": {
           "arrowcolor": "#2a3f5f",
           "arrowhead": 0,
           "arrowwidth": 1
          },
          "autotypenumbers": "strict",
          "coloraxis": {
           "colorbar": {
            "outlinewidth": 0,
            "ticks": ""
           }
          },
          "colorscale": {
           "diverging": [
            [
             0,
             "#8e0152"
            ],
            [
             0.1,
             "#c51b7d"
            ],
            [
             0.2,
             "#de77ae"
            ],
            [
             0.3,
             "#f1b6da"
            ],
            [
             0.4,
             "#fde0ef"
            ],
            [
             0.5,
             "#f7f7f7"
            ],
            [
             0.6,
             "#e6f5d0"
            ],
            [
             0.7,
             "#b8e186"
            ],
            [
             0.8,
             "#7fbc41"
            ],
            [
             0.9,
             "#4d9221"
            ],
            [
             1,
             "#276419"
            ]
           ],
           "sequential": [
            [
             0,
             "#0d0887"
            ],
            [
             0.1111111111111111,
             "#46039f"
            ],
            [
             0.2222222222222222,
             "#7201a8"
            ],
            [
             0.3333333333333333,
             "#9c179e"
            ],
            [
             0.4444444444444444,
             "#bd3786"
            ],
            [
             0.5555555555555556,
             "#d8576b"
            ],
            [
             0.6666666666666666,
             "#ed7953"
            ],
            [
             0.7777777777777778,
             "#fb9f3a"
            ],
            [
             0.8888888888888888,
             "#fdca26"
            ],
            [
             1,
             "#f0f921"
            ]
           ],
           "sequentialminus": [
            [
             0,
             "#0d0887"
            ],
            [
             0.1111111111111111,
             "#46039f"
            ],
            [
             0.2222222222222222,
             "#7201a8"
            ],
            [
             0.3333333333333333,
             "#9c179e"
            ],
            [
             0.4444444444444444,
             "#bd3786"
            ],
            [
             0.5555555555555556,
             "#d8576b"
            ],
            [
             0.6666666666666666,
             "#ed7953"
            ],
            [
             0.7777777777777778,
             "#fb9f3a"
            ],
            [
             0.8888888888888888,
             "#fdca26"
            ],
            [
             1,
             "#f0f921"
            ]
           ]
          },
          "colorway": [
           "#636efa",
           "#EF553B",
           "#00cc96",
           "#ab63fa",
           "#FFA15A",
           "#19d3f3",
           "#FF6692",
           "#B6E880",
           "#FF97FF",
           "#FECB52"
          ],
          "font": {
           "color": "#2a3f5f"
          },
          "geo": {
           "bgcolor": "white",
           "lakecolor": "white",
           "landcolor": "#E5ECF6",
           "showlakes": true,
           "showland": true,
           "subunitcolor": "white"
          },
          "hoverlabel": {
           "align": "left"
          },
          "hovermode": "closest",
          "mapbox": {
           "style": "light"
          },
          "paper_bgcolor": "white",
          "plot_bgcolor": "#E5ECF6",
          "polar": {
           "angularaxis": {
            "gridcolor": "white",
            "linecolor": "white",
            "ticks": ""
           },
           "bgcolor": "#E5ECF6",
           "radialaxis": {
            "gridcolor": "white",
            "linecolor": "white",
            "ticks": ""
           }
          },
          "scene": {
           "xaxis": {
            "backgroundcolor": "#E5ECF6",
            "gridcolor": "white",
            "gridwidth": 2,
            "linecolor": "white",
            "showbackground": true,
            "ticks": "",
            "zerolinecolor": "white"
           },
           "yaxis": {
            "backgroundcolor": "#E5ECF6",
            "gridcolor": "white",
            "gridwidth": 2,
            "linecolor": "white",
            "showbackground": true,
            "ticks": "",
            "zerolinecolor": "white"
           },
           "zaxis": {
            "backgroundcolor": "#E5ECF6",
            "gridcolor": "white",
            "gridwidth": 2,
            "linecolor": "white",
            "showbackground": true,
            "ticks": "",
            "zerolinecolor": "white"
           }
          },
          "shapedefaults": {
           "line": {
            "color": "#2a3f5f"
           }
          },
          "ternary": {
           "aaxis": {
            "gridcolor": "white",
            "linecolor": "white",
            "ticks": ""
           },
           "baxis": {
            "gridcolor": "white",
            "linecolor": "white",
            "ticks": ""
           },
           "bgcolor": "#E5ECF6",
           "caxis": {
            "gridcolor": "white",
            "linecolor": "white",
            "ticks": ""
           }
          },
          "title": {
           "x": 0.05
          },
          "xaxis": {
           "automargin": true,
           "gridcolor": "white",
           "linecolor": "white",
           "ticks": "",
           "title": {
            "standoff": 15
           },
           "zerolinecolor": "white",
           "zerolinewidth": 2
          },
          "yaxis": {
           "automargin": true,
           "gridcolor": "white",
           "linecolor": "white",
           "ticks": "",
           "title": {
            "standoff": 15
           },
           "zerolinecolor": "white",
           "zerolinewidth": 2
          }
         }
        },
        "width": 1200
       }
      }
     },
     "metadata": {},
     "output_type": "display_data"
    }
   ],
   "source": [
    "fig2 = client.candlestick_chart(df2)\n",
    "fig2.show()"
   ]
  },
  {
   "cell_type": "markdown",
   "metadata": {},
   "source": [
    "### Get detail for HDFC Bank India"
   ]
  },
  {
   "cell_type": "code",
   "execution_count": 34,
   "metadata": {},
   "outputs": [
    {
     "data": {
      "text/plain": [
       "{'HDB': ['HDFC Bank Ltd', 'United States', 'USD'],\n",
       " 'HDFCBANK.BSE': ['HDFC Bank Limited', 'India/Bombay', 'INR'],\n",
       " 'H1DB34.SAO': ['HDFC Bank Limited', 'Brazil/Sao Paolo', 'BRL'],\n",
       " 'HDFA.FRK': ['HDFC Bank Limited', 'Frankfurt', 'EUR']}"
      ]
     },
     "execution_count": 34,
     "metadata": {},
     "output_type": "execute_result"
    }
   ],
   "source": [
    "client.symbol_search(\"HDFC Bank\")"
   ]
  },
  {
   "cell_type": "code",
   "execution_count": 35,
   "metadata": {},
   "outputs": [
    {
     "data": {
      "text/html": [
       "<div>\n",
       "<style scoped>\n",
       "    .dataframe tbody tr th:only-of-type {\n",
       "        vertical-align: middle;\n",
       "    }\n",
       "\n",
       "    .dataframe tbody tr th {\n",
       "        vertical-align: top;\n",
       "    }\n",
       "\n",
       "    .dataframe thead th {\n",
       "        text-align: right;\n",
       "    }\n",
       "</style>\n",
       "<table border=\"1\" class=\"dataframe\">\n",
       "  <thead>\n",
       "    <tr style=\"text-align: right;\">\n",
       "      <th></th>\n",
       "      <th>1. open</th>\n",
       "      <th>2. high</th>\n",
       "      <th>3. low</th>\n",
       "      <th>4. close</th>\n",
       "      <th>5. volume</th>\n",
       "    </tr>\n",
       "    <tr>\n",
       "      <th>Date</th>\n",
       "      <th></th>\n",
       "      <th></th>\n",
       "      <th></th>\n",
       "      <th></th>\n",
       "      <th></th>\n",
       "    </tr>\n",
       "  </thead>\n",
       "  <tbody>\n",
       "    <tr>\n",
       "      <th>2025-03-12</th>\n",
       "      <td>1688.85</td>\n",
       "      <td>1719.00</td>\n",
       "      <td>1688.85</td>\n",
       "      <td>1711.85</td>\n",
       "      <td>884523.0</td>\n",
       "    </tr>\n",
       "    <tr>\n",
       "      <th>2025-03-11</th>\n",
       "      <td>1684.30</td>\n",
       "      <td>1694.40</td>\n",
       "      <td>1670.30</td>\n",
       "      <td>1684.95</td>\n",
       "      <td>118232.0</td>\n",
       "    </tr>\n",
       "    <tr>\n",
       "      <th>2025-03-10</th>\n",
       "      <td>1688.35</td>\n",
       "      <td>1699.40</td>\n",
       "      <td>1683.00</td>\n",
       "      <td>1687.05</td>\n",
       "      <td>150454.0</td>\n",
       "    </tr>\n",
       "    <tr>\n",
       "      <th>2025-03-07</th>\n",
       "      <td>1686.95</td>\n",
       "      <td>1700.90</td>\n",
       "      <td>1677.35</td>\n",
       "      <td>1689.35</td>\n",
       "      <td>320468.0</td>\n",
       "    </tr>\n",
       "    <tr>\n",
       "      <th>2025-03-06</th>\n",
       "      <td>1688.95</td>\n",
       "      <td>1700.00</td>\n",
       "      <td>1672.60</td>\n",
       "      <td>1689.75</td>\n",
       "      <td>268369.0</td>\n",
       "    </tr>\n",
       "    <tr>\n",
       "      <th>...</th>\n",
       "      <td>...</td>\n",
       "      <td>...</td>\n",
       "      <td>...</td>\n",
       "      <td>...</td>\n",
       "      <td>...</td>\n",
       "    </tr>\n",
       "    <tr>\n",
       "      <th>2024-10-25</th>\n",
       "      <td>1757.00</td>\n",
       "      <td>1758.35</td>\n",
       "      <td>1729.00</td>\n",
       "      <td>1742.60</td>\n",
       "      <td>774016.0</td>\n",
       "    </tr>\n",
       "    <tr>\n",
       "      <th>2024-10-24</th>\n",
       "      <td>1737.55</td>\n",
       "      <td>1768.65</td>\n",
       "      <td>1737.55</td>\n",
       "      <td>1750.10</td>\n",
       "      <td>236712.0</td>\n",
       "    </tr>\n",
       "    <tr>\n",
       "      <th>2024-10-23</th>\n",
       "      <td>1702.30</td>\n",
       "      <td>1746.45</td>\n",
       "      <td>1702.30</td>\n",
       "      <td>1735.70</td>\n",
       "      <td>267503.0</td>\n",
       "    </tr>\n",
       "    <tr>\n",
       "      <th>2024-10-22</th>\n",
       "      <td>1729.00</td>\n",
       "      <td>1740.00</td>\n",
       "      <td>1710.95</td>\n",
       "      <td>1714.10</td>\n",
       "      <td>445656.0</td>\n",
       "    </tr>\n",
       "    <tr>\n",
       "      <th>2024-10-21</th>\n",
       "      <td>1720.05</td>\n",
       "      <td>1748.20</td>\n",
       "      <td>1710.50</td>\n",
       "      <td>1728.80</td>\n",
       "      <td>1400462.0</td>\n",
       "    </tr>\n",
       "  </tbody>\n",
       "</table>\n",
       "<p>100 rows × 5 columns</p>\n",
       "</div>"
      ],
      "text/plain": [
       "            1. open  2. high   3. low  4. close  5. volume\n",
       "Date                                                      \n",
       "2025-03-12  1688.85  1719.00  1688.85   1711.85   884523.0\n",
       "2025-03-11  1684.30  1694.40  1670.30   1684.95   118232.0\n",
       "2025-03-10  1688.35  1699.40  1683.00   1687.05   150454.0\n",
       "2025-03-07  1686.95  1700.90  1677.35   1689.35   320468.0\n",
       "2025-03-06  1688.95  1700.00  1672.60   1689.75   268369.0\n",
       "...             ...      ...      ...       ...        ...\n",
       "2024-10-25  1757.00  1758.35  1729.00   1742.60   774016.0\n",
       "2024-10-24  1737.55  1768.65  1737.55   1750.10   236712.0\n",
       "2024-10-23  1702.30  1746.45  1702.30   1735.70   267503.0\n",
       "2024-10-22  1729.00  1740.00  1710.95   1714.10   445656.0\n",
       "2024-10-21  1720.05  1748.20  1710.50   1728.80  1400462.0\n",
       "\n",
       "[100 rows x 5 columns]"
      ]
     },
     "execution_count": 35,
     "metadata": {},
     "output_type": "execute_result"
    }
   ],
   "source": [
    "df3 = client.get_daily_data(\"HDFCBANK.BSE\")\n",
    "df3"
   ]
  },
  {
   "cell_type": "code",
   "execution_count": 36,
   "metadata": {},
   "outputs": [],
   "source": [
    "df3.to_csv(\"HDFC.csv\")"
   ]
  },
  {
   "cell_type": "code",
   "execution_count": 37,
   "metadata": {},
   "outputs": [
    {
     "data": {
      "application/vnd.plotly.v1+json": {
       "config": {
        "plotlyServerURL": "https://plot.ly"
       },
       "data": [
        {
         "close": {
          "bdata": "ZmZmZma/mkDNzMzMzFOaQDMzMzMzXJpAZmZmZmZlmkAAAAAAAGeaQAAAAAAAZ5pAmpmZmZm8mkAAAAAAAJWaQGZmZmZmDJtAzczMzMyNmkBmZmZmZk6aQAAAAAAAL5pAMzMzMzNumkCamZmZmVmaQM3MzMzM+5pAAAAAAADqmkAAAAAAANWaQAAAAAAAfJpAAAAAAACHmkAzMzMzM6yaQJqZmZmZj5pAmpmZmZnNmkBmZmZmZhCbQM3MzMzMQptAAAAAAAAmm0AAAAAAAOmaQJqZmZmZQJpAZmZmZmZnmkAAAAAAAI2aQGZmZmZmcJpAZmZmZmY0mkAzMzMzMxqaQM3MzMzMdplAMzMzMzPGmUAzMzMzMwOaQDMzMzMzBJpAAAAAAACnmUAAAAAAAM2ZQM3MzMzMkplAAAAAAADTmUAAAAAAAKuZQAAAAAAAsZlAZmZmZmZ4mUCamZmZmeSZQAAAAAAAD5pAmpmZmZl4mkBmZmZmZsiaQDMzMzMzuZpAMzMzMzNVm0BmZmZmZgWcQM3MzMzM2ZtAzczMzMyxm0DNzMzMzMqbQGZmZmZmF5xAAAAAAAD/m0CamZmZmRacQAAAAAAAJJxAMzMzMzOwm0DNzMzMzAWcQM3MzMzMTJxAZmZmZmajnEAzMzMzMyOdQDMzMzMzQJ1AzczMzMwLnUDNzMzMzB6dQDMzMzMzMJ1AMzMzMzM3nUAAAAAAAAKdQDMzMzMzH51AMzMzMzMQnUBmZmZmZoucQDMzMzMzMpxAmpmZmZkWnECamZmZmQOcQAAAAAAATJxAmpmZmZnlm0BmZmZmZuKbQM3MzMzMR5tAzczMzMw3m0AAAAAAADmbQAAAAAAAoppAZmZmZmZ0mkAAAAAAAEWaQGZmZmZm2ZpAZmZmZmaam0AzMzMzM2qbQJqZmZmZSJtAmpmZmZlom0DNzMzMzHebQDMzMzMzyJpAMzMzMzMnm0DNzMzMzBubQAAAAAAAHJtAAAAAAABcm0AzMzMzMxmbQGZmZmZmOptAZmZmZmZYm0DNzMzMzB6bQGZmZmZmyJpAMzMzMzMDm0A=",
          "dtype": "f8"
         },
         "high": {
          "bdata": "AAAAAADcmkCamZmZmXmaQJqZmZmZjZpAmpmZmZmTmkAAAAAAAJCaQJqZmZmZuppAzczMzMzKmkAAAAAAADybQDMzMzMzI5tAAAAAAAC4mkAAAAAAAGCaQAAAAAAAUppAMzMzMzN7mkBmZmZmZsyaQJqZmZmZJ5tAZmZmZmYOm0AAAAAAAOCaQGZmZmZmkZpAAAAAAADImkBmZmZmZr6aQDMzMzMzuppAAAAAAADvmkCamZmZmZ2bQM3MzMzMTZtAAAAAAABAm0AAAAAAAPiaQJqZmZmZWppAZmZmZmbCmkAAAAAAAJ+aQDMzMzMzgZpAMzMzMzNFmkAAAAAAAFCaQGZmZmZmpplAmpmZmZkamkAAAAAAAFSaQGZmZmZmH5pAzczMzMzxmUAAAAAAAPOZQJqZmZmZyJlAAAAAAADwmUCamZmZmfqZQAAAAAAA4ZlAzczMzMy5mUAAAAAAACyaQJqZmZmZZppAMzMzMzPAmkDNzMzMzOWaQM3MzMzMdZtAMzMzMzMLnEAAAAAAACycQJqZmZmZCZxAZmZmZmbVm0AAAAAAAFycQAAAAAAALJxAmpmZmZlNnECamZmZmTicQJqZmZmZN5xAZmZmZmYVnEDNzMzMzCCcQJqZmZmZrpxAAAAAAAAZnUAAAAAAADidQDMzMzMzSp1AmpmZmZkynUAzMzMzMzydQAAAAAAATJ1AAAAAAABgnUCamZmZmSCdQAAAAAAAXJ1AAAAAAAAknUAAAAAAALScQAAAAAAAQJxAAAAAAAAxnEAzMzMzM7CcQM3MzMzMZJxAZmZmZmYwnECamZmZmSecQDMzMzMzZ5tAAAAAAAB7m0CamZmZmWabQDMzMzMz25pAZmZmZmaimkAAAAAAAASbQAAAAAAAtZtAAAAAAADam0DNzMzMzIWbQGZmZmZmgJtAAAAAAACwm0AAAAAAAIqbQGZmZmZmPptAzczMzMxTm0CamZmZmS6bQAAAAAAAbJtAzczMzMyOm0CamZmZmVubQGZmZmZmeZtAmpmZmZmim0DNzMzMzEmbQAAAAAAAMJtAzczMzMxQm0A=",
          "dtype": "f8"
         },
         "low": {
          "bdata": "ZmZmZmZjmkAzMzMzMxmaQAAAAAAATJpAZmZmZmY1mkBmZmZmZiKaQDMzMzMzYZpAzczMzMx5mkCamZmZmXiaQDMzMzMzRZpAMzMzMzNOmkAAAAAAACCaQGZmZmZm9plAMzMzMzM3mkAAAAAAAFSaQDMzMzMzxJpAZmZmZmapmkAzMzMzM0SaQDMzMzMzPppAmpmZmZl2mkAzMzMzM0aaQM3MzMzMYJpAmpmZmZmzmkBmZmZmZvSaQDMzMzMz8JpAzczMzMzamkDNzMzMzECaQDMzMzMzBJpAAAAAAAAxmkAzMzMzM1CaQDMzMzMzJppAZmZmZmYTmkAAAAAAALCZQJqZmZmZaZlAAAAAAAC0mUAAAAAAAM+ZQDMzMzMzZZlAAAAAAACDmUAAAAAAAHCZQAAAAAAAc5lAAAAAAACtmUAAAAAAAJGZQAAAAAAAjJlAAAAAAABhmUCamZmZmdiZQGZmZmZm65lAAAAAAABMmkAAAAAAAJCaQAAAAAAApJpAMzMzMzNJm0BmZmZmZribQAAAAAAAiJtAAAAAAACgm0BmZmZmZq2bQAAAAAAA9ptAAAAAAADXm0BmZmZmZvSbQAAAAAAA0JtAmpmZmZmbm0AAAAAAAMybQM3MzMzMPZxAZmZmZmaJnEBmZmZmZvycQAAAAAAAlJxAZmZmZmblnEAAAAAAAASdQJqZmZmZCp1AMzMzMzPmnEDNzMzMzM6cQJqZmZmZr5xAzczMzMycnECamZmZmWGcQAAAAAAAvJtAZmZmZmbcm0AAAAAAAPCbQDMzMzMz5ZtAAAAAAACom0AAAAAAAJSbQDMzMzMzBZtAzczMzMwWm0AAAAAAAKCaQGZmZmZmeppAAAAAAAAomkAAAAAAACKaQDMzMzMzs5pAMzMzMzNem0CamZmZmUibQDMzMzMzJ5tAAAAAAABFm0AAAAAAAIiaQAAAAAAAuJpAAAAAAAADm0AzMzMzM9yaQJqZmZmZ8ZpAZmZmZmb0mkDNzMzMzAObQAAAAAAABJtAMzMzMzMmm0AzMzMzM5maQM3MzMzMu5pAAAAAAAC6mkA=",
          "dtype": "f8"
         },
         "open": {
          "bdata": "ZmZmZmZjmkAzMzMzM1GaQGZmZmZmYZpAzczMzMxbmkDNzMzMzGOaQAAAAAAApJpAAAAAAACMmkAAAAAAAB2bQDMzMzMzRZpAMzMzMzNOmkAAAAAAACCaQGZmZmZmQJpAmpmZmZlMmkAzMzMzM8yaQJqZmZmZ2ppAAAAAAADMmkAzMzMzM1iaQDMzMzMzkJpAzczMzMyPmkAAAAAAAGyaQAAAAAAAqJpAMzMzMzPNmkAzMzMzM1qbQGZmZmZmHZtAMzMzMzMMm0AAAAAAAGiaQAAAAAAAGJpAMzMzMzOEmkDNzMzMzGOaQGZmZmZmNZpAAAAAAAAsmkAAAAAAALCZQAAAAAAAoJlAzczMzMz/mUDNzMzMzEqaQM3MzMzMs5lAAAAAAADwmUDNzMzMzIOZQM3MzMzMs5lAAAAAAADfmUAAAAAAAOiZQAAAAAAAjJlAAAAAAACgmUAAAAAAABiaQJqZmZmZZppAAAAAAAC8mkBmZmZmZrmaQJqZmZmZL5tAMzMzMzMLnEAAAAAAANKbQAAAAAAAvJtAMzMzMzOom0DNzMzMzAucQAAAAAAA+ZtAAAAAAAAWnEDNzMzMzC+cQAAAAAAA0JtAzczMzMzvm0AzMzMzMwycQAAAAAAAopxAMzMzMzMAnUAAAAAAABydQM3MzMzM/JxAzczMzMznnEAAAAAAACSdQAAAAAAAOZ1AMzMzMzP0nEAAAAAAAA+dQAAAAAAAGJ1AAAAAAAC4nECamZmZmW+cQJqZmZmZFpxAMzMzMzMInEAAAAAAAGicQJqZmZmZ7JtAAAAAAAAgnEAAAAAAAMybQJqZmZmZMJtAMzMzMzNwm0AzMzMzM8yaQM3MzMzMqJpAzczMzMwrmkAzMzMzM72aQM3MzMzMnJtAAAAAAABkm0AzMzMzM0ybQM3MzMzMV5tAzczMzMyUm0DNzMzMzK+aQJqZmZmZNZtAzczMzMxTm0AAAAAAAAibQM3MzMzMT5tAZmZmZmb0mkAzMzMzMyubQAAAAAAAdJtAMzMzMzMmm0AzMzMzM5maQAAAAAAABJtAMzMzMzPgmkA=",
          "dtype": "f8"
         },
         "type": "candlestick",
         "x": [
          "2025-03-12T00:00:00.000000000",
          "2025-03-11T00:00:00.000000000",
          "2025-03-10T00:00:00.000000000",
          "2025-03-07T00:00:00.000000000",
          "2025-03-06T00:00:00.000000000",
          "2025-03-05T00:00:00.000000000",
          "2025-03-04T00:00:00.000000000",
          "2025-03-03T00:00:00.000000000",
          "2025-02-28T00:00:00.000000000",
          "2025-02-27T00:00:00.000000000",
          "2025-02-25T00:00:00.000000000",
          "2025-02-24T00:00:00.000000000",
          "2025-02-21T00:00:00.000000000",
          "2025-02-20T00:00:00.000000000",
          "2025-02-19T00:00:00.000000000",
          "2025-02-18T00:00:00.000000000",
          "2025-02-17T00:00:00.000000000",
          "2025-02-14T00:00:00.000000000",
          "2025-02-13T00:00:00.000000000",
          "2025-02-12T00:00:00.000000000",
          "2025-02-11T00:00:00.000000000",
          "2025-02-10T00:00:00.000000000",
          "2025-02-07T00:00:00.000000000",
          "2025-02-06T00:00:00.000000000",
          "2025-02-05T00:00:00.000000000",
          "2025-02-04T00:00:00.000000000",
          "2025-02-03T00:00:00.000000000",
          "2025-02-01T00:00:00.000000000",
          "2025-01-31T00:00:00.000000000",
          "2025-01-30T00:00:00.000000000",
          "2025-01-29T00:00:00.000000000",
          "2025-01-28T00:00:00.000000000",
          "2025-01-27T00:00:00.000000000",
          "2025-01-24T00:00:00.000000000",
          "2025-01-23T00:00:00.000000000",
          "2025-01-22T00:00:00.000000000",
          "2025-01-21T00:00:00.000000000",
          "2025-01-20T00:00:00.000000000",
          "2025-01-17T00:00:00.000000000",
          "2025-01-16T00:00:00.000000000",
          "2025-01-15T00:00:00.000000000",
          "2025-01-14T00:00:00.000000000",
          "2025-01-13T00:00:00.000000000",
          "2025-01-10T00:00:00.000000000",
          "2025-01-09T00:00:00.000000000",
          "2025-01-08T00:00:00.000000000",
          "2025-01-07T00:00:00.000000000",
          "2025-01-06T00:00:00.000000000",
          "2025-01-03T00:00:00.000000000",
          "2025-01-02T00:00:00.000000000",
          "2025-01-01T00:00:00.000000000",
          "2024-12-31T00:00:00.000000000",
          "2024-12-30T00:00:00.000000000",
          "2024-12-27T00:00:00.000000000",
          "2024-12-26T00:00:00.000000000",
          "2024-12-24T00:00:00.000000000",
          "2024-12-23T00:00:00.000000000",
          "2024-12-20T00:00:00.000000000",
          "2024-12-19T00:00:00.000000000",
          "2024-12-18T00:00:00.000000000",
          "2024-12-17T00:00:00.000000000",
          "2024-12-16T00:00:00.000000000",
          "2024-12-13T00:00:00.000000000",
          "2024-12-12T00:00:00.000000000",
          "2024-12-11T00:00:00.000000000",
          "2024-12-10T00:00:00.000000000",
          "2024-12-09T00:00:00.000000000",
          "2024-12-06T00:00:00.000000000",
          "2024-12-05T00:00:00.000000000",
          "2024-12-04T00:00:00.000000000",
          "2024-12-03T00:00:00.000000000",
          "2024-12-02T00:00:00.000000000",
          "2024-11-29T00:00:00.000000000",
          "2024-11-28T00:00:00.000000000",
          "2024-11-27T00:00:00.000000000",
          "2024-11-26T00:00:00.000000000",
          "2024-11-25T00:00:00.000000000",
          "2024-11-22T00:00:00.000000000",
          "2024-11-21T00:00:00.000000000",
          "2024-11-19T00:00:00.000000000",
          "2024-11-18T00:00:00.000000000",
          "2024-11-14T00:00:00.000000000",
          "2024-11-13T00:00:00.000000000",
          "2024-11-12T00:00:00.000000000",
          "2024-11-11T00:00:00.000000000",
          "2024-11-08T00:00:00.000000000",
          "2024-11-07T00:00:00.000000000",
          "2024-11-06T00:00:00.000000000",
          "2024-11-05T00:00:00.000000000",
          "2024-11-04T00:00:00.000000000",
          "2024-11-01T00:00:00.000000000",
          "2024-10-31T00:00:00.000000000",
          "2024-10-30T00:00:00.000000000",
          "2024-10-29T00:00:00.000000000",
          "2024-10-28T00:00:00.000000000",
          "2024-10-25T00:00:00.000000000",
          "2024-10-24T00:00:00.000000000",
          "2024-10-23T00:00:00.000000000",
          "2024-10-22T00:00:00.000000000",
          "2024-10-21T00:00:00.000000000"
         ]
        }
       ],
       "layout": {
        "height": 800,
        "template": {
         "data": {
          "bar": [
           {
            "error_x": {
             "color": "#2a3f5f"
            },
            "error_y": {
             "color": "#2a3f5f"
            },
            "marker": {
             "line": {
              "color": "#E5ECF6",
              "width": 0.5
             },
             "pattern": {
              "fillmode": "overlay",
              "size": 10,
              "solidity": 0.2
             }
            },
            "type": "bar"
           }
          ],
          "barpolar": [
           {
            "marker": {
             "line": {
              "color": "#E5ECF6",
              "width": 0.5
             },
             "pattern": {
              "fillmode": "overlay",
              "size": 10,
              "solidity": 0.2
             }
            },
            "type": "barpolar"
           }
          ],
          "carpet": [
           {
            "aaxis": {
             "endlinecolor": "#2a3f5f",
             "gridcolor": "white",
             "linecolor": "white",
             "minorgridcolor": "white",
             "startlinecolor": "#2a3f5f"
            },
            "baxis": {
             "endlinecolor": "#2a3f5f",
             "gridcolor": "white",
             "linecolor": "white",
             "minorgridcolor": "white",
             "startlinecolor": "#2a3f5f"
            },
            "type": "carpet"
           }
          ],
          "choropleth": [
           {
            "colorbar": {
             "outlinewidth": 0,
             "ticks": ""
            },
            "type": "choropleth"
           }
          ],
          "contour": [
           {
            "colorbar": {
             "outlinewidth": 0,
             "ticks": ""
            },
            "colorscale": [
             [
              0,
              "#0d0887"
             ],
             [
              0.1111111111111111,
              "#46039f"
             ],
             [
              0.2222222222222222,
              "#7201a8"
             ],
             [
              0.3333333333333333,
              "#9c179e"
             ],
             [
              0.4444444444444444,
              "#bd3786"
             ],
             [
              0.5555555555555556,
              "#d8576b"
             ],
             [
              0.6666666666666666,
              "#ed7953"
             ],
             [
              0.7777777777777778,
              "#fb9f3a"
             ],
             [
              0.8888888888888888,
              "#fdca26"
             ],
             [
              1,
              "#f0f921"
             ]
            ],
            "type": "contour"
           }
          ],
          "contourcarpet": [
           {
            "colorbar": {
             "outlinewidth": 0,
             "ticks": ""
            },
            "type": "contourcarpet"
           }
          ],
          "heatmap": [
           {
            "colorbar": {
             "outlinewidth": 0,
             "ticks": ""
            },
            "colorscale": [
             [
              0,
              "#0d0887"
             ],
             [
              0.1111111111111111,
              "#46039f"
             ],
             [
              0.2222222222222222,
              "#7201a8"
             ],
             [
              0.3333333333333333,
              "#9c179e"
             ],
             [
              0.4444444444444444,
              "#bd3786"
             ],
             [
              0.5555555555555556,
              "#d8576b"
             ],
             [
              0.6666666666666666,
              "#ed7953"
             ],
             [
              0.7777777777777778,
              "#fb9f3a"
             ],
             [
              0.8888888888888888,
              "#fdca26"
             ],
             [
              1,
              "#f0f921"
             ]
            ],
            "type": "heatmap"
           }
          ],
          "histogram": [
           {
            "marker": {
             "pattern": {
              "fillmode": "overlay",
              "size": 10,
              "solidity": 0.2
             }
            },
            "type": "histogram"
           }
          ],
          "histogram2d": [
           {
            "colorbar": {
             "outlinewidth": 0,
             "ticks": ""
            },
            "colorscale": [
             [
              0,
              "#0d0887"
             ],
             [
              0.1111111111111111,
              "#46039f"
             ],
             [
              0.2222222222222222,
              "#7201a8"
             ],
             [
              0.3333333333333333,
              "#9c179e"
             ],
             [
              0.4444444444444444,
              "#bd3786"
             ],
             [
              0.5555555555555556,
              "#d8576b"
             ],
             [
              0.6666666666666666,
              "#ed7953"
             ],
             [
              0.7777777777777778,
              "#fb9f3a"
             ],
             [
              0.8888888888888888,
              "#fdca26"
             ],
             [
              1,
              "#f0f921"
             ]
            ],
            "type": "histogram2d"
           }
          ],
          "histogram2dcontour": [
           {
            "colorbar": {
             "outlinewidth": 0,
             "ticks": ""
            },
            "colorscale": [
             [
              0,
              "#0d0887"
             ],
             [
              0.1111111111111111,
              "#46039f"
             ],
             [
              0.2222222222222222,
              "#7201a8"
             ],
             [
              0.3333333333333333,
              "#9c179e"
             ],
             [
              0.4444444444444444,
              "#bd3786"
             ],
             [
              0.5555555555555556,
              "#d8576b"
             ],
             [
              0.6666666666666666,
              "#ed7953"
             ],
             [
              0.7777777777777778,
              "#fb9f3a"
             ],
             [
              0.8888888888888888,
              "#fdca26"
             ],
             [
              1,
              "#f0f921"
             ]
            ],
            "type": "histogram2dcontour"
           }
          ],
          "mesh3d": [
           {
            "colorbar": {
             "outlinewidth": 0,
             "ticks": ""
            },
            "type": "mesh3d"
           }
          ],
          "parcoords": [
           {
            "line": {
             "colorbar": {
              "outlinewidth": 0,
              "ticks": ""
             }
            },
            "type": "parcoords"
           }
          ],
          "pie": [
           {
            "automargin": true,
            "type": "pie"
           }
          ],
          "scatter": [
           {
            "fillpattern": {
             "fillmode": "overlay",
             "size": 10,
             "solidity": 0.2
            },
            "type": "scatter"
           }
          ],
          "scatter3d": [
           {
            "line": {
             "colorbar": {
              "outlinewidth": 0,
              "ticks": ""
             }
            },
            "marker": {
             "colorbar": {
              "outlinewidth": 0,
              "ticks": ""
             }
            },
            "type": "scatter3d"
           }
          ],
          "scattercarpet": [
           {
            "marker": {
             "colorbar": {
              "outlinewidth": 0,
              "ticks": ""
             }
            },
            "type": "scattercarpet"
           }
          ],
          "scattergeo": [
           {
            "marker": {
             "colorbar": {
              "outlinewidth": 0,
              "ticks": ""
             }
            },
            "type": "scattergeo"
           }
          ],
          "scattergl": [
           {
            "marker": {
             "colorbar": {
              "outlinewidth": 0,
              "ticks": ""
             }
            },
            "type": "scattergl"
           }
          ],
          "scattermap": [
           {
            "marker": {
             "colorbar": {
              "outlinewidth": 0,
              "ticks": ""
             }
            },
            "type": "scattermap"
           }
          ],
          "scattermapbox": [
           {
            "marker": {
             "colorbar": {
              "outlinewidth": 0,
              "ticks": ""
             }
            },
            "type": "scattermapbox"
           }
          ],
          "scatterpolar": [
           {
            "marker": {
             "colorbar": {
              "outlinewidth": 0,
              "ticks": ""
             }
            },
            "type": "scatterpolar"
           }
          ],
          "scatterpolargl": [
           {
            "marker": {
             "colorbar": {
              "outlinewidth": 0,
              "ticks": ""
             }
            },
            "type": "scatterpolargl"
           }
          ],
          "scatterternary": [
           {
            "marker": {
             "colorbar": {
              "outlinewidth": 0,
              "ticks": ""
             }
            },
            "type": "scatterternary"
           }
          ],
          "surface": [
           {
            "colorbar": {
             "outlinewidth": 0,
             "ticks": ""
            },
            "colorscale": [
             [
              0,
              "#0d0887"
             ],
             [
              0.1111111111111111,
              "#46039f"
             ],
             [
              0.2222222222222222,
              "#7201a8"
             ],
             [
              0.3333333333333333,
              "#9c179e"
             ],
             [
              0.4444444444444444,
              "#bd3786"
             ],
             [
              0.5555555555555556,
              "#d8576b"
             ],
             [
              0.6666666666666666,
              "#ed7953"
             ],
             [
              0.7777777777777778,
              "#fb9f3a"
             ],
             [
              0.8888888888888888,
              "#fdca26"
             ],
             [
              1,
              "#f0f921"
             ]
            ],
            "type": "surface"
           }
          ],
          "table": [
           {
            "cells": {
             "fill": {
              "color": "#EBF0F8"
             },
             "line": {
              "color": "white"
             }
            },
            "header": {
             "fill": {
              "color": "#C8D4E3"
             },
             "line": {
              "color": "white"
             }
            },
            "type": "table"
           }
          ]
         },
         "layout": {
          "annotationdefaults": {
           "arrowcolor": "#2a3f5f",
           "arrowhead": 0,
           "arrowwidth": 1
          },
          "autotypenumbers": "strict",
          "coloraxis": {
           "colorbar": {
            "outlinewidth": 0,
            "ticks": ""
           }
          },
          "colorscale": {
           "diverging": [
            [
             0,
             "#8e0152"
            ],
            [
             0.1,
             "#c51b7d"
            ],
            [
             0.2,
             "#de77ae"
            ],
            [
             0.3,
             "#f1b6da"
            ],
            [
             0.4,
             "#fde0ef"
            ],
            [
             0.5,
             "#f7f7f7"
            ],
            [
             0.6,
             "#e6f5d0"
            ],
            [
             0.7,
             "#b8e186"
            ],
            [
             0.8,
             "#7fbc41"
            ],
            [
             0.9,
             "#4d9221"
            ],
            [
             1,
             "#276419"
            ]
           ],
           "sequential": [
            [
             0,
             "#0d0887"
            ],
            [
             0.1111111111111111,
             "#46039f"
            ],
            [
             0.2222222222222222,
             "#7201a8"
            ],
            [
             0.3333333333333333,
             "#9c179e"
            ],
            [
             0.4444444444444444,
             "#bd3786"
            ],
            [
             0.5555555555555556,
             "#d8576b"
            ],
            [
             0.6666666666666666,
             "#ed7953"
            ],
            [
             0.7777777777777778,
             "#fb9f3a"
            ],
            [
             0.8888888888888888,
             "#fdca26"
            ],
            [
             1,
             "#f0f921"
            ]
           ],
           "sequentialminus": [
            [
             0,
             "#0d0887"
            ],
            [
             0.1111111111111111,
             "#46039f"
            ],
            [
             0.2222222222222222,
             "#7201a8"
            ],
            [
             0.3333333333333333,
             "#9c179e"
            ],
            [
             0.4444444444444444,
             "#bd3786"
            ],
            [
             0.5555555555555556,
             "#d8576b"
            ],
            [
             0.6666666666666666,
             "#ed7953"
            ],
            [
             0.7777777777777778,
             "#fb9f3a"
            ],
            [
             0.8888888888888888,
             "#fdca26"
            ],
            [
             1,
             "#f0f921"
            ]
           ]
          },
          "colorway": [
           "#636efa",
           "#EF553B",
           "#00cc96",
           "#ab63fa",
           "#FFA15A",
           "#19d3f3",
           "#FF6692",
           "#B6E880",
           "#FF97FF",
           "#FECB52"
          ],
          "font": {
           "color": "#2a3f5f"
          },
          "geo": {
           "bgcolor": "white",
           "lakecolor": "white",
           "landcolor": "#E5ECF6",
           "showlakes": true,
           "showland": true,
           "subunitcolor": "white"
          },
          "hoverlabel": {
           "align": "left"
          },
          "hovermode": "closest",
          "mapbox": {
           "style": "light"
          },
          "paper_bgcolor": "white",
          "plot_bgcolor": "#E5ECF6",
          "polar": {
           "angularaxis": {
            "gridcolor": "white",
            "linecolor": "white",
            "ticks": ""
           },
           "bgcolor": "#E5ECF6",
           "radialaxis": {
            "gridcolor": "white",
            "linecolor": "white",
            "ticks": ""
           }
          },
          "scene": {
           "xaxis": {
            "backgroundcolor": "#E5ECF6",
            "gridcolor": "white",
            "gridwidth": 2,
            "linecolor": "white",
            "showbackground": true,
            "ticks": "",
            "zerolinecolor": "white"
           },
           "yaxis": {
            "backgroundcolor": "#E5ECF6",
            "gridcolor": "white",
            "gridwidth": 2,
            "linecolor": "white",
            "showbackground": true,
            "ticks": "",
            "zerolinecolor": "white"
           },
           "zaxis": {
            "backgroundcolor": "#E5ECF6",
            "gridcolor": "white",
            "gridwidth": 2,
            "linecolor": "white",
            "showbackground": true,
            "ticks": "",
            "zerolinecolor": "white"
           }
          },
          "shapedefaults": {
           "line": {
            "color": "#2a3f5f"
           }
          },
          "ternary": {
           "aaxis": {
            "gridcolor": "white",
            "linecolor": "white",
            "ticks": ""
           },
           "baxis": {
            "gridcolor": "white",
            "linecolor": "white",
            "ticks": ""
           },
           "bgcolor": "#E5ECF6",
           "caxis": {
            "gridcolor": "white",
            "linecolor": "white",
            "ticks": ""
           }
          },
          "title": {
           "x": 0.05
          },
          "xaxis": {
           "automargin": true,
           "gridcolor": "white",
           "linecolor": "white",
           "ticks": "",
           "title": {
            "standoff": 15
           },
           "zerolinecolor": "white",
           "zerolinewidth": 2
          },
          "yaxis": {
           "automargin": true,
           "gridcolor": "white",
           "linecolor": "white",
           "ticks": "",
           "title": {
            "standoff": 15
           },
           "zerolinecolor": "white",
           "zerolinewidth": 2
          }
         }
        },
        "width": 1200
       }
      }
     },
     "metadata": {},
     "output_type": "display_data"
    }
   ],
   "source": [
    "fig3 = client.candlestick_chart(df3)\n",
    "fig3.show()"
   ]
  },
  {
   "cell_type": "code",
   "execution_count": null,
   "metadata": {},
   "outputs": [],
   "source": []
  }
 ],
 "metadata": {
  "kernelspec": {
   "display_name": "venv",
   "language": "python",
   "name": "python3"
  },
  "language_info": {
   "codemirror_mode": {
    "name": "ipython",
    "version": 3
   },
   "file_extension": ".py",
   "mimetype": "text/x-python",
   "name": "python",
   "nbconvert_exporter": "python",
   "pygments_lexer": "ipython3",
   "version": "3.13.2"
  }
 },
 "nbformat": 4,
 "nbformat_minor": 2
}
